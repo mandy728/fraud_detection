{
 "cells": [
  {
   "cell_type": "code",
   "execution_count": 1,
   "id": "altered-mortgage",
   "metadata": {},
   "outputs": [],
   "source": [
    "import numpy as np\n",
    "import pandas as pd\n",
    "import matplotlib.pyplot as plt\n",
    "import seaborn as sns\n",
    "# sns.set_style(\"#f5f1e9\")\n",
    "\n",
    "from sklearn.compose import ColumnTransformer\n",
    "from sklearn.preprocessing import OneHotEncoder, LabelEncoder, StandardScaler, PolynomialFeatures\n",
    "from sklearn.pipeline import Pipeline\n",
    "from sklearn.impute import KNNImputer, SimpleImputer\n",
    "\n",
    "from sklearn.model_selection import train_test_split\n",
    "from sklearn.linear_model import LogisticRegression\n",
    "from sklearn.ensemble import RandomForestClassifier\n",
    "from sklearn.model_selection import GridSearchCV\n",
    "from sklearn.ensemble import GradientBoostingClassifier\n",
    "\n",
    "\n",
    "from sklearn.metrics import confusion_matrix\n",
    "from sklearn.metrics import accuracy_score, precision_score, recall_score, f1_score\n",
    "from sklearn.metrics import classification_report\n",
    "from sklearn.metrics import roc_curve, plot_roc_curve, auc\n",
    "from sklearn.metrics import plot_precision_recall_curve\n"
   ]
  },
  {
   "cell_type": "code",
   "execution_count": 5,
   "id": "rapid-begin",
   "metadata": {},
   "outputs": [],
   "source": [
    "fraud_df = pd.read_json('../data/data.json')\n",
    "fraud_df['target'] = fraud_df.acct_type.str.contains('fraud')\n",
    "fraud_df.to_pickle('../data/data.p')"
   ]
  },
  {
   "cell_type": "code",
   "execution_count": null,
   "id": "satellite-light",
   "metadata": {},
   "outputs": [],
   "source": [
    "fraud_df = pd.read_pickle('../data/data.p')\n",
    "fraud_df.head(2)"
   ]
  },
  {
   "cell_type": "code",
   "execution_count": 2,
   "id": "purple-insertion",
   "metadata": {},
   "outputs": [],
   "source": [
    "fraud_flat_df = pd.read_pickle('../data/flattened_data.p')"
   ]
  },
  {
   "cell_type": "code",
   "execution_count": 3,
   "id": "comfortable-consumption",
   "metadata": {},
   "outputs": [
    {
     "data": {
      "text/html": [
       "<div>\n",
       "<style scoped>\n",
       "    .dataframe tbody tr th:only-of-type {\n",
       "        vertical-align: middle;\n",
       "    }\n",
       "\n",
       "    .dataframe tbody tr th {\n",
       "        vertical-align: top;\n",
       "    }\n",
       "\n",
       "    .dataframe thead th {\n",
       "        text-align: right;\n",
       "    }\n",
       "</style>\n",
       "<table border=\"1\" class=\"dataframe\">\n",
       "  <thead>\n",
       "    <tr style=\"text-align: right;\">\n",
       "      <th></th>\n",
       "      <th>acct_type</th>\n",
       "      <th>approx_payout_date</th>\n",
       "      <th>body_length</th>\n",
       "      <th>channels</th>\n",
       "      <th>country_x</th>\n",
       "      <th>currency</th>\n",
       "      <th>delivery_method</th>\n",
       "      <th>description</th>\n",
       "      <th>email_domain</th>\n",
       "      <th>event_created</th>\n",
       "      <th>...</th>\n",
       "      <th>id</th>\n",
       "      <th>name_y</th>\n",
       "      <th>created</th>\n",
       "      <th>country_y</th>\n",
       "      <th>amount</th>\n",
       "      <th>state</th>\n",
       "      <th>address</th>\n",
       "      <th>uid</th>\n",
       "      <th>event</th>\n",
       "      <th>zip_code</th>\n",
       "    </tr>\n",
       "  </thead>\n",
       "  <tbody>\n",
       "    <tr>\n",
       "      <th>0</th>\n",
       "      <td>fraudster_event</td>\n",
       "      <td>2010-02-13 12:00:00</td>\n",
       "      <td>3852</td>\n",
       "      <td>5</td>\n",
       "      <td>US</td>\n",
       "      <td>USD</td>\n",
       "      <td>0.0</td>\n",
       "      <td>&lt;p&gt;&lt;a href=\"http://s432.photobucket.com/albums...</td>\n",
       "      <td>gmail.com</td>\n",
       "      <td>2010-01-06 01:01:46</td>\n",
       "      <td>...</td>\n",
       "      <td>0</td>\n",
       "      <td>NaN</td>\n",
       "      <td>NaN</td>\n",
       "      <td>NaN</td>\n",
       "      <td>NaN</td>\n",
       "      <td>NaN</td>\n",
       "      <td>NaN</td>\n",
       "      <td>NaN</td>\n",
       "      <td>NaN</td>\n",
       "      <td>NaN</td>\n",
       "    </tr>\n",
       "    <tr>\n",
       "      <th>1</th>\n",
       "      <td>premium</td>\n",
       "      <td>2011-02-03 08:00:00</td>\n",
       "      <td>3499</td>\n",
       "      <td>0</td>\n",
       "      <td>US</td>\n",
       "      <td>USD</td>\n",
       "      <td>1.0</td>\n",
       "      <td>&lt;p&gt;Join us for a quick, one-night, community-b...</td>\n",
       "      <td>ruf.org</td>\n",
       "      <td>2010-12-31 21:57:50</td>\n",
       "      <td>...</td>\n",
       "      <td>1</td>\n",
       "      <td>RUF</td>\n",
       "      <td>2010-10-01 01:10:09</td>\n",
       "      <td>US</td>\n",
       "      <td>34389.38</td>\n",
       "      <td>GA</td>\n",
       "      <td>1700 North Brown Road</td>\n",
       "      <td>5419068.0</td>\n",
       "      <td>786869.0</td>\n",
       "      <td>30043</td>\n",
       "    </tr>\n",
       "  </tbody>\n",
       "</table>\n",
       "<p>2 rows × 55 columns</p>\n",
       "</div>"
      ],
      "text/plain": [
       "         acct_type  approx_payout_date  body_length  channels country_x  \\\n",
       "0  fraudster_event 2010-02-13 12:00:00         3852         5        US   \n",
       "1          premium 2011-02-03 08:00:00         3499         0        US   \n",
       "\n",
       "  currency  delivery_method  \\\n",
       "0      USD              0.0   \n",
       "1      USD              1.0   \n",
       "\n",
       "                                         description email_domain  \\\n",
       "0  <p><a href=\"http://s432.photobucket.com/albums...    gmail.com   \n",
       "1  <p>Join us for a quick, one-night, community-b...      ruf.org   \n",
       "\n",
       "        event_created  ... id name_y              created  country_y  \\\n",
       "0 2010-01-06 01:01:46  ...  0    NaN                  NaN        NaN   \n",
       "1 2010-12-31 21:57:50  ...  1    RUF  2010-10-01 01:10:09         US   \n",
       "\n",
       "     amount  state                address        uid     event zip_code  \n",
       "0       NaN    NaN                    NaN        NaN       NaN      NaN  \n",
       "1  34389.38     GA  1700 North Brown Road  5419068.0  786869.0    30043  \n",
       "\n",
       "[2 rows x 55 columns]"
      ]
     },
     "execution_count": 3,
     "metadata": {},
     "output_type": "execute_result"
    }
   ],
   "source": [
    "fraud_flat_df.head(2)"
   ]
  },
  {
   "cell_type": "code",
   "execution_count": 6,
   "id": "distinct-trademark",
   "metadata": {},
   "outputs": [
    {
     "data": {
      "text/plain": [
       "((14337, 45), (1098552, 55))"
      ]
     },
     "execution_count": 6,
     "metadata": {},
     "output_type": "execute_result"
    }
   ],
   "source": [
    "fraud_df.shape, fraud_flat_df.shape"
   ]
  },
  {
   "cell_type": "markdown",
   "id": "trained-michigan",
   "metadata": {},
   "source": [
    "# Feature Selection"
   ]
  },
  {
   "cell_type": "code",
   "execution_count": 7,
   "id": "alien-polls",
   "metadata": {},
   "outputs": [
    {
     "data": {
      "text/plain": [
       "Index(['acct_type', 'approx_payout_date', 'body_length', 'channels',\n",
       "       'country_x', 'currency', 'delivery_method', 'description',\n",
       "       'email_domain', 'event_created', 'event_end', 'event_published',\n",
       "       'event_start', 'fb_published', 'gts', 'has_analytics', 'has_header',\n",
       "       'has_logo', 'listed', 'name_x', 'name_length', 'num_order',\n",
       "       'num_payouts', 'object_id', 'org_desc', 'org_facebook', 'org_name',\n",
       "       'org_twitter', 'payee_name', 'payout_type', 'previous_payouts',\n",
       "       'sale_duration', 'sale_duration2', 'show_map', 'ticket_types',\n",
       "       'user_age', 'user_created', 'user_type', 'venue_address',\n",
       "       'venue_country', 'venue_latitude', 'venue_longitude', 'venue_name',\n",
       "       'venue_state', 'target', 'id', 'name_y', 'created', 'country_y',\n",
       "       'amount', 'state', 'address', 'uid', 'event', 'zip_code'],\n",
       "      dtype='object')"
      ]
     },
     "execution_count": 7,
     "metadata": {},
     "output_type": "execute_result"
    }
   ],
   "source": [
    "fraud_flat_df.columns"
   ]
  },
  {
   "cell_type": "code",
   "execution_count": 8,
   "id": "blessed-potato",
   "metadata": {},
   "outputs": [
    {
     "data": {
      "text/plain": [
       "Index(['acct_type', 'approx_payout_date', 'body_length', 'channels', 'country',\n",
       "       'currency', 'delivery_method', 'description', 'email_domain',\n",
       "       'event_created', 'event_end', 'event_published', 'event_start',\n",
       "       'fb_published', 'gts', 'has_analytics', 'has_header', 'has_logo',\n",
       "       'listed', 'name', 'name_length', 'num_order', 'num_payouts',\n",
       "       'object_id', 'org_desc', 'org_facebook', 'org_name', 'org_twitter',\n",
       "       'payee_name', 'payout_type', 'previous_payouts', 'sale_duration',\n",
       "       'sale_duration2', 'show_map', 'ticket_types', 'user_age',\n",
       "       'user_created', 'user_type', 'venue_address', 'venue_country',\n",
       "       'venue_latitude', 'venue_longitude', 'venue_name', 'venue_state',\n",
       "       'target'],\n",
       "      dtype='object')"
      ]
     },
     "execution_count": 8,
     "metadata": {},
     "output_type": "execute_result"
    }
   ],
   "source": [
    "fraud_df.columns"
   ]
  },
  {
   "cell_type": "code",
   "execution_count": 9,
   "id": "ignored-clinton",
   "metadata": {},
   "outputs": [],
   "source": [
    "numeric_cols = ['num_order', 'num_payouts', 'sale_duration', 'user_age', 'org_facebook', 'org_twitter']\n",
    "categorical_cols = ['channels', 'country', 'delivery_method', 'email_domain',  'fb_published', \n",
    "                    'gts', 'has_analytics', 'has_header','has_logo', 'listed', \n",
    "                     'payout_type', 'show_map', 'user_type', \n",
    "                    'venue_country']\n",
    "cols = numeric_cols + categorical_cols\n"
   ]
  },
  {
   "cell_type": "code",
   "execution_count": 10,
   "id": "technical-walnut",
   "metadata": {},
   "outputs": [],
   "source": [
    "# fraud_flat_df.event.value_counts()\n",
    "# fraud_flat_df.loc[:,categorical_cols].info()"
   ]
  },
  {
   "cell_type": "code",
   "execution_count": 11,
   "id": "damaged-vessel",
   "metadata": {},
   "outputs": [
    {
     "name": "stdout",
     "output_type": "stream",
     "text": [
      "<class 'pandas.core.frame.DataFrame'>\n",
      "RangeIndex: 14337 entries, 0 to 14336\n",
      "Data columns (total 14 columns):\n",
      " #   Column           Non-Null Count  Dtype  \n",
      "---  ------           --------------  -----  \n",
      " 0   channels         14337 non-null  int64  \n",
      " 1   country          14256 non-null  object \n",
      " 2   delivery_method  14321 non-null  float64\n",
      " 3   email_domain     14337 non-null  object \n",
      " 4   fb_published     14337 non-null  int64  \n",
      " 5   gts              14337 non-null  float64\n",
      " 6   has_analytics    14337 non-null  int64  \n",
      " 7   has_header       8928 non-null   float64\n",
      " 8   has_logo         14337 non-null  int64  \n",
      " 9   listed           14337 non-null  object \n",
      " 10  payout_type      14337 non-null  object \n",
      " 11  show_map         14337 non-null  int64  \n",
      " 12  user_type        14337 non-null  int64  \n",
      " 13  venue_country    13261 non-null  object \n",
      "dtypes: float64(3), int64(6), object(5)\n",
      "memory usage: 1.5+ MB\n"
     ]
    }
   ],
   "source": [
    "fraud_df.loc[:,categorical_cols].info()"
   ]
  },
  {
   "cell_type": "code",
   "execution_count": 12,
   "id": "located-context",
   "metadata": {},
   "outputs": [
    {
     "data": {
      "text/plain": [
       "(6, 14, 20)"
      ]
     },
     "execution_count": 12,
     "metadata": {},
     "output_type": "execute_result"
    }
   ],
   "source": [
    "len(numeric_cols), len(categorical_cols), len(cols)"
   ]
  },
  {
   "cell_type": "code",
   "execution_count": 13,
   "id": "responsible-aggregate",
   "metadata": {},
   "outputs": [
    {
     "data": {
      "text/html": [
       "<div>\n",
       "<style scoped>\n",
       "    .dataframe tbody tr th:only-of-type {\n",
       "        vertical-align: middle;\n",
       "    }\n",
       "\n",
       "    .dataframe tbody tr th {\n",
       "        vertical-align: top;\n",
       "    }\n",
       "\n",
       "    .dataframe thead th {\n",
       "        text-align: right;\n",
       "    }\n",
       "</style>\n",
       "<table border=\"1\" class=\"dataframe\">\n",
       "  <thead>\n",
       "    <tr style=\"text-align: right;\">\n",
       "      <th></th>\n",
       "      <th>num_order</th>\n",
       "      <th>num_payouts</th>\n",
       "      <th>sale_duration</th>\n",
       "      <th>user_age</th>\n",
       "      <th>org_facebook</th>\n",
       "      <th>org_twitter</th>\n",
       "    </tr>\n",
       "  </thead>\n",
       "  <tbody>\n",
       "    <tr>\n",
       "      <th>num_order</th>\n",
       "      <td>1.000000</td>\n",
       "      <td>-0.001860</td>\n",
       "      <td>0.101677</td>\n",
       "      <td>0.020365</td>\n",
       "      <td>0.015238</td>\n",
       "      <td>0.035910</td>\n",
       "    </tr>\n",
       "    <tr>\n",
       "      <th>num_payouts</th>\n",
       "      <td>-0.001860</td>\n",
       "      <td>1.000000</td>\n",
       "      <td>0.070484</td>\n",
       "      <td>0.210060</td>\n",
       "      <td>0.055431</td>\n",
       "      <td>0.115074</td>\n",
       "    </tr>\n",
       "    <tr>\n",
       "      <th>sale_duration</th>\n",
       "      <td>0.101677</td>\n",
       "      <td>0.070484</td>\n",
       "      <td>1.000000</td>\n",
       "      <td>0.029540</td>\n",
       "      <td>0.061867</td>\n",
       "      <td>0.065721</td>\n",
       "    </tr>\n",
       "    <tr>\n",
       "      <th>user_age</th>\n",
       "      <td>0.020365</td>\n",
       "      <td>0.210060</td>\n",
       "      <td>0.029540</td>\n",
       "      <td>1.000000</td>\n",
       "      <td>0.035943</td>\n",
       "      <td>0.106005</td>\n",
       "    </tr>\n",
       "    <tr>\n",
       "      <th>org_facebook</th>\n",
       "      <td>0.015238</td>\n",
       "      <td>0.055431</td>\n",
       "      <td>0.061867</td>\n",
       "      <td>0.035943</td>\n",
       "      <td>1.000000</td>\n",
       "      <td>0.514731</td>\n",
       "    </tr>\n",
       "    <tr>\n",
       "      <th>org_twitter</th>\n",
       "      <td>0.035910</td>\n",
       "      <td>0.115074</td>\n",
       "      <td>0.065721</td>\n",
       "      <td>0.106005</td>\n",
       "      <td>0.514731</td>\n",
       "      <td>1.000000</td>\n",
       "    </tr>\n",
       "  </tbody>\n",
       "</table>\n",
       "</div>"
      ],
      "text/plain": [
       "               num_order  num_payouts  sale_duration  user_age  org_facebook  \\\n",
       "num_order       1.000000    -0.001860       0.101677  0.020365      0.015238   \n",
       "num_payouts    -0.001860     1.000000       0.070484  0.210060      0.055431   \n",
       "sale_duration   0.101677     0.070484       1.000000  0.029540      0.061867   \n",
       "user_age        0.020365     0.210060       0.029540  1.000000      0.035943   \n",
       "org_facebook    0.015238     0.055431       0.061867  0.035943      1.000000   \n",
       "org_twitter     0.035910     0.115074       0.065721  0.106005      0.514731   \n",
       "\n",
       "               org_twitter  \n",
       "num_order         0.035910  \n",
       "num_payouts       0.115074  \n",
       "sale_duration     0.065721  \n",
       "user_age          0.106005  \n",
       "org_facebook      0.514731  \n",
       "org_twitter       1.000000  "
      ]
     },
     "execution_count": 13,
     "metadata": {},
     "output_type": "execute_result"
    }
   ],
   "source": [
    "fraud_selected = fraud_df.loc[:,numeric_cols]\n",
    "numeric_corr = fraud_selected.corr()\n",
    "numeric_corr"
   ]
  },
  {
   "cell_type": "code",
   "execution_count": 14,
   "id": "allied-commission",
   "metadata": {},
   "outputs": [
    {
     "data": {
      "image/png": "[encoded data removed]",
      "text/plain": [
       "<Figure size 432x288 with 2 Axes>"
      ]
     },
     "metadata": {
      "needs_background": "light"
     },
     "output_type": "display_data"
    }
   ],
   "source": [
    "# sales duration 1 and sales duration 2 have high correlation REMOVED\n",
    "sns.heatmap(numeric_corr, xticklabels=numeric_corr.columns, yticklabels=numeric_corr.columns, cmap='RdYlBu');"
   ]
  },
  {
   "cell_type": "markdown",
   "id": "nearby-youth",
   "metadata": {},
   "source": [
    "# Feature Engineering & Preprocessing"
   ]
  },
  {
   "cell_type": "code",
   "execution_count": 15,
   "id": "suspended-regular",
   "metadata": {},
   "outputs": [],
   "source": [
    "fraud_df = fraud_df.where(pd.notnull(fraud_df), np.nan)"
   ]
  },
  {
   "cell_type": "code",
   "execution_count": 16,
   "id": "express-broadcasting",
   "metadata": {},
   "outputs": [
    {
     "name": "stdout",
     "output_type": "stream",
     "text": [
      "<class 'pandas.core.frame.DataFrame'>\n",
      "RangeIndex: 14337 entries, 0 to 14336\n",
      "Data columns (total 20 columns):\n",
      " #   Column           Non-Null Count  Dtype  \n",
      "---  ------           --------------  -----  \n",
      " 0   num_order        14337 non-null  int64  \n",
      " 1   num_payouts      14337 non-null  int64  \n",
      " 2   sale_duration    14182 non-null  float64\n",
      " 3   user_age         14337 non-null  int64  \n",
      " 4   org_facebook     14278 non-null  float64\n",
      " 5   org_twitter      14278 non-null  float64\n",
      " 6   channels         14337 non-null  int64  \n",
      " 7   country          14256 non-null  object \n",
      " 8   delivery_method  14321 non-null  float64\n",
      " 9   email_domain     14337 non-null  object \n",
      " 10  fb_published     14337 non-null  int64  \n",
      " 11  gts              14337 non-null  float64\n",
      " 12  has_analytics    14337 non-null  int64  \n",
      " 13  has_header       8928 non-null   float64\n",
      " 14  has_logo         14337 non-null  int64  \n",
      " 15  listed           14337 non-null  object \n",
      " 16  payout_type      14337 non-null  object \n",
      " 17  show_map         14337 non-null  int64  \n",
      " 18  user_type        14337 non-null  int64  \n",
      " 19  venue_country    13261 non-null  object \n",
      "dtypes: float64(6), int64(9), object(5)\n",
      "memory usage: 2.2+ MB\n"
     ]
    }
   ],
   "source": [
    "X_fraud = fraud_df.loc[:, cols]\n",
    "y_fraud = fraud_df.target\n",
    "X_fraud.info()"
   ]
  },
  {
   "cell_type": "code",
   "execution_count": 17,
   "id": "female-attention",
   "metadata": {},
   "outputs": [
    {
     "data": {
      "text/plain": [
       "((10752, 20), (3585, 20), (10752,), (3585,))"
      ]
     },
     "execution_count": 17,
     "metadata": {},
     "output_type": "execute_result"
    }
   ],
   "source": [
    "X_train, X_test, y_train, y_test = train_test_split(X_fraud, y_fraud, stratify=y_fraud)\n",
    "X_train.shape, X_test.shape, y_train.shape, y_test.shape"
   ]
  },
  {
   "cell_type": "code",
   "execution_count": 18,
   "id": "subtle-pocket",
   "metadata": {},
   "outputs": [
    {
     "data": {
      "text/plain": [
       "(5, 6)"
      ]
     },
     "execution_count": 18,
     "metadata": {},
     "output_type": "execute_result"
    }
   ],
   "source": [
    "numeric_transformer = Pipeline(steps=[\n",
    "    ('imputer', KNNImputer()),\n",
    "    ('scaler', StandardScaler())\n",
    "])\n",
    "numeric_transformer.fit_transform(fraud_df.loc[:,numeric_cols][:5]).shape"
   ]
  },
  {
   "cell_type": "code",
   "execution_count": 19,
   "id": "macro-tower",
   "metadata": {},
   "outputs": [
    {
     "data": {
      "text/plain": [
       "<5x36 sparse matrix of type '<class 'numpy.float64'>'\n",
       "\twith 70 stored elements in Compressed Sparse Row format>"
      ]
     },
     "execution_count": 19,
     "metadata": {},
     "output_type": "execute_result"
    }
   ],
   "source": [
    "categorical_transformer = Pipeline([\n",
    "    ('imputer', SimpleImputer(missing_values=np.nan, strategy='most_frequent')),\n",
    "    ('encoder', OneHotEncoder(handle_unknown='ignore'))\n",
    "])\n",
    "categorical_transformer.fit_transform(fraud_df.loc[:,categorical_cols][:5])"
   ]
  },
  {
   "cell_type": "code",
   "execution_count": 20,
   "id": "norwegian-police",
   "metadata": {},
   "outputs": [],
   "source": [
    "fraud_categorical = categorical_transformer.fit_transform(fraud_df.loc[:,categorical_cols]).todense() \n",
    "# categorical_corr = pd.DataFrame(fraud_categorical).corr(method='pearson')"
   ]
  },
  {
   "cell_type": "code",
   "execution_count": 21,
   "id": "tested-right",
   "metadata": {},
   "outputs": [],
   "source": [
    "# Preprocessing\n",
    "preprocessor = ColumnTransformer(transformers=[\n",
    "    ('num', numeric_transformer, numeric_cols),\n",
    "    ('cat', categorical_transformer, categorical_cols)\n",
    "])\n",
    "\n",
    "\n",
    "logistic_reg = LogisticRegression(solver='liblinear')\n"
   ]
  },
  {
   "cell_type": "markdown",
   "id": "pretty-quality",
   "metadata": {},
   "source": [
    "# Base Model: Logistic Regression"
   ]
  },
  {
   "cell_type": "code",
   "execution_count": 22,
   "id": "prescription-potter",
   "metadata": {},
   "outputs": [],
   "source": [
    "# Base Model\n",
    "logistic_pipe = Pipeline([\n",
    "    ('preprocessor', preprocessor),\n",
    "    ('logistiic_reg', logistic_reg)\n",
    "])"
   ]
  },
  {
   "cell_type": "code",
   "execution_count": 23,
   "id": "scientific-helmet",
   "metadata": {},
   "outputs": [
    {
     "data": {
      "text/plain": [
       "Pipeline(steps=[('preprocessor',\n",
       "                 ColumnTransformer(transformers=[('num',\n",
       "                                                  Pipeline(steps=[('imputer',\n",
       "                                                                   KNNImputer()),\n",
       "                                                                  ('scaler',\n",
       "                                                                   StandardScaler())]),\n",
       "                                                  ['num_order', 'num_payouts',\n",
       "                                                   'sale_duration', 'user_age',\n",
       "                                                   'org_facebook',\n",
       "                                                   'org_twitter']),\n",
       "                                                 ('cat',\n",
       "                                                  Pipeline(steps=[('imputer',\n",
       "                                                                   SimpleImputer(strategy='most_frequent')),\n",
       "                                                                  ('encoder',\n",
       "                                                                   OneHotEncoder(handle_unknown='ignore'))]),\n",
       "                                                  ['channels', 'country',\n",
       "                                                   'delivery_method',\n",
       "                                                   'email_domain',\n",
       "                                                   'fb_published', 'gts',\n",
       "                                                   'has_analytics',\n",
       "                                                   'has_header', 'has_logo',\n",
       "                                                   'listed', 'payout_type',\n",
       "                                                   'show_map', 'user_type',\n",
       "                                                   'venue_country'])])),\n",
       "                ('logistiic_reg', LogisticRegression(solver='liblinear'))])"
      ]
     },
     "execution_count": 23,
     "metadata": {},
     "output_type": "execute_result"
    }
   ],
   "source": [
    "logistic_pipe.fit(X_train, y_train)"
   ]
  },
  {
   "cell_type": "code",
   "execution_count": 24,
   "id": "reflected-colleague",
   "metadata": {},
   "outputs": [
    {
     "data": {
      "text/plain": [
       "(0.9796316964285714, 0.9662482566248256)"
      ]
     },
     "execution_count": 24,
     "metadata": {},
     "output_type": "execute_result"
    }
   ],
   "source": [
    "logistic_pipe.score(X_train, y_train), logistic_pipe.score(X_test, y_test)"
   ]
  },
  {
   "cell_type": "code",
   "execution_count": 25,
   "id": "latin-trading",
   "metadata": {},
   "outputs": [],
   "source": [
    "y_pred = logistic_pipe.predict(X_test)"
   ]
  },
  {
   "cell_type": "code",
   "execution_count": 26,
   "id": "hawaiian-profile",
   "metadata": {},
   "outputs": [
    {
     "data": {
      "text/plain": [
       "array([[3235,   27],\n",
       "       [  94,  229]])"
      ]
     },
     "execution_count": 26,
     "metadata": {},
     "output_type": "execute_result"
    }
   ],
   "source": [
    "confusion = confusion_matrix(y_test, y_pred)\n",
    "confusion"
   ]
  },
  {
   "cell_type": "code",
   "execution_count": 27,
   "id": "descending-sixth",
   "metadata": {},
   "outputs": [
    {
     "data": {
      "text/plain": [
       "''"
      ]
     },
     "execution_count": 27,
     "metadata": {},
     "output_type": "execute_result"
    },
    {
     "data": {
      "image/png": "[encoded data removed]",
      "text/plain": [
       "<Figure size 360x288 with 2 Axes>"
      ]
     },
     "metadata": {
      "needs_background": "light"
     },
     "output_type": "display_data"
    }
   ],
   "source": [
    "cm = confusion/confusion.sum(axis=1).reshape(-1,1)\n",
    "\n",
    "fig, ax = plt.subplots(1, figsize = (5,4))\n",
    "sns.heatmap(cm,annot=True, cmap='RdBu', ax = ax, fmt='.2f', cbar=True, center = 0.02, \\\n",
    "            linewidths=1, linecolor='k',  yticklabels=['Not Fraud', 'Fraud'], xticklabels=['Not Fraud', 'Fraud'])\n",
    "ax.set_xlabel('Predicted')\n",
    "ax.set_ylabel('Actual')\n",
    "ax.set_title('Confusion Matrix', fontsize=17)\n",
    "\n",
    "\n",
    "\n",
    ";"
   ]
  },
  {
   "cell_type": "code",
   "execution_count": 28,
   "id": "nasty-multimedia",
   "metadata": {},
   "outputs": [
    {
     "name": "stdout",
     "output_type": "stream",
     "text": [
      "              precision    recall  f1-score   support\n",
      "\n",
      "   Not Fraud       0.97      0.99      0.98      3262\n",
      "       Fraud       0.89      0.71      0.79       323\n",
      "\n",
      "    accuracy                           0.97      3585\n",
      "   macro avg       0.93      0.85      0.89      3585\n",
      "weighted avg       0.96      0.97      0.96      3585\n",
      "\n"
     ]
    }
   ],
   "source": [
    "# our model predicted that 31% will be legitimate transaction when they were in fact should have been fraud alert\n",
    "print(classification_report(y_test, y_pred, target_names=['Not Fraud', 'Fraud']))"
   ]
  },
  {
   "cell_type": "code",
   "execution_count": 29,
   "id": "phantom-glasgow",
   "metadata": {},
   "outputs": [
    {
     "data": {
      "image/png": "[encoded data removed]",
      "text/plain": [
       "<Figure size 432x288 with 1 Axes>"
      ]
     },
     "metadata": {
      "needs_background": "light"
     },
     "output_type": "display_data"
    }
   ],
   "source": [
    "fig, ax = plt.subplots()\n",
    "plot_roc_curve(logistic_pipe, X_test, y_test, ax=ax );"
   ]
  },
  {
   "cell_type": "code",
   "execution_count": 30,
   "id": "attractive-chile",
   "metadata": {
    "scrolled": true
   },
   "outputs": [
    {
     "data": {
      "image/png": "[encoded data removed]",
      "text/plain": [
       "<Figure size 432x288 with 1 Axes>"
      ]
     },
     "metadata": {
      "needs_background": "light"
     },
     "output_type": "display_data"
    }
   ],
   "source": [
    "probs = logistic_pipe.predict_proba(X_test)\n",
    "preds = probs[:,1]\n",
    "fpr, tpr, threshold = roc_curve(y_test, preds)\n",
    "roc_auc = auc(fpr, tpr)\n",
    "\n",
    "plt.title('Receiver Operating Characteristic')\n",
    "plt.plot(fpr, tpr, 'b', label = 'AUC = %0.2f' % roc_auc)\n",
    "plt.legend(loc = 'lower right')\n",
    "plt.plot([0, 1], [0, 1],'r--')\n",
    "plt.xlim([0, 1])\n",
    "plt.ylim([0, 1])\n",
    "plt.ylabel('True Positive Rate')\n",
    "plt.xlabel('False Positive Rate')\n",
    "plt.show()"
   ]
  },
  {
   "cell_type": "code",
   "execution_count": 31,
   "id": "informational-accident",
   "metadata": {},
   "outputs": [],
   "source": [
    "def evaluation_metrics(pipe):\n",
    "    fig, axs = plt.subplots(3, figsize = (6,12))\n",
    "    fig.tight_layout(pad=3)\n",
    "    \n",
    "    y_pred = pipe.predict(X_test)\n",
    "    confusion = confusion_matrix(y_test, y_pred)\n",
    "    cm = confusion/confusion.sum(axis=1).reshape(-1,1)\n",
    "\n",
    "    sns.heatmap(cm,annot=True, cmap='RdBu', ax = axs[0], fmt='.2f', cbar=True, center = 0.02, \\\n",
    "                linewidths=1, linecolor='k',  yticklabels=['Not Fraud', 'Fraud'], xticklabels=['Not Fraud', 'Fraud'])\n",
    "    axs[0].set_xlabel('Predicted')\n",
    "    axs[0].set_ylabel('Actual')\n",
    "    axs[0].set_title('Confusion Matrix', fontsize=17)\n",
    "    \n",
    "    print(classification_report(y_test, y_pred, target_names=['Not Fraud', 'Fraud']))\n",
    "    \n",
    "    roc = plot_roc_curve(pipe, X_test, y_test, ax=axs[1] )\n",
    "    roc.ax_.set_title('Receiver Operating Characterstic', fontsize=17)\n",
    "    precision_recall = plot_precision_recall_curve(pipe, X_test, y_test, ax=axs[2])\n",
    "    precision_recall.ax_.set_title('Precision-Recall curve', fontsize=17)\n",
    "    "
   ]
  },
  {
   "cell_type": "code",
   "execution_count": 32,
   "id": "hungry-boost",
   "metadata": {},
   "outputs": [
    {
     "name": "stdout",
     "output_type": "stream",
     "text": [
      "              precision    recall  f1-score   support\n",
      "\n",
      "   Not Fraud       0.97      0.99      0.98      3262\n",
      "       Fraud       0.89      0.71      0.79       323\n",
      "\n",
      "    accuracy                           0.97      3585\n",
      "   macro avg       0.93      0.85      0.89      3585\n",
      "weighted avg       0.96      0.97      0.96      3585\n",
      "\n"
     ]
    },
    {
     "data": {
      "image/png": "[encoded data removed]",
      "text/plain": [
       "<Figure size 432x864 with 4 Axes>"
      ]
     },
     "metadata": {
      "needs_background": "light"
     },
     "output_type": "display_data"
    }
   ],
   "source": [
    "evaluation_metrics(logistic_pipe)"
   ]
  },
  {
   "cell_type": "markdown",
   "id": "silent-electric",
   "metadata": {},
   "source": [
    "# Random Forest"
   ]
  },
  {
   "cell_type": "code",
   "execution_count": null,
   "id": "changed-toilet",
   "metadata": {},
   "outputs": [],
   "source": [
    "rf_pipe = Pipeline([\n",
    "    ('preprocessor', preprocessor),\n",
    "    ('classifier', RandomForestClassifier())\n",
    "])\n",
    "\n",
    "rf_param_grid = [\n",
    "    {'classifier': [LogisticRegression()],\n",
    "     'classifier__penalty': ['l1', 'l2'],\n",
    "     'classifier__C': np.logspace(-4,4,10),\n",
    "     'classifier__solver': ['liblinear']\n",
    "    }, \n",
    "    {'classifier': [RandomForestClassifier()],\n",
    "     'classifier__n_estimators': list(range(50,201,10)),\n",
    "     'classifier__max_features': list(range(3,20, 5))\n",
    "    \n",
    "    }\n",
    "    \n",
    "]"
   ]
  },
  {
   "cell_type": "code",
   "execution_count": null,
   "id": "continuous-color",
   "metadata": {},
   "outputs": [],
   "source": [
    "rf_clf = GridSearchCV(rf_pipe, rf_param_grid, cv=5, verbose=True, n_jobs=-1)\n",
    "rf_clf.fit(X_train, y_train)"
   ]
  },
  {
   "cell_type": "code",
   "execution_count": null,
   "id": "spoken-arkansas",
   "metadata": {},
   "outputs": [],
   "source": [
    "rf_clf.cv_results_"
   ]
  },
  {
   "cell_type": "code",
   "execution_count": null,
   "id": "pharmaceutical-breathing",
   "metadata": {},
   "outputs": [],
   "source": [
    "rf_clf.best_params_"
   ]
  },
  {
   "cell_type": "code",
   "execution_count": null,
   "id": "brief-order",
   "metadata": {},
   "outputs": [],
   "source": [
    "rf_best_pipe = Pipeline([\n",
    "    ('preprocessor', preprocessor),\n",
    "    ('rf', RandomForestClassifier(n_estimators=200, max_features=8))\n",
    "])\n",
    "\n",
    "rf_best_pipe.fit(X_train, y_train)"
   ]
  },
  {
   "cell_type": "code",
   "execution_count": null,
   "id": "toxic-translation",
   "metadata": {},
   "outputs": [],
   "source": [
    "evaluation_metrics(rf_best_pipe)"
   ]
  },
  {
   "cell_type": "markdown",
   "id": "certified-posting",
   "metadata": {},
   "source": [
    "# Gradient Boosting"
   ]
  },
  {
   "cell_type": "code",
   "execution_count": null,
   "id": "wireless-colombia",
   "metadata": {},
   "outputs": [],
   "source": [
    "gb_pipe = Pipeline([\n",
    "    ('preprocessor', preprocessor),\n",
    "    ('classifier', GradientBoostingClassifier())\n",
    "])\n",
    "\n",
    "gb_param_grid = [\n",
    "    {'classifier__max_depth': [3,5,7],\n",
    "     'classifier__max_features': [None, 'sqrt'],\n",
    "     'classifier__min_samples_split': [2,6],\n",
    "     'classifier__loss': ['deviance', 'exponential'],\n",
    "     'classifier__learning_rate': [0.1],\n",
    "     'classifier__n_estimators': list(range(100,301,50)),\n",
    "     'classifier__subsample': [0.5, 1]\n",
    "    }] \n",
    "\n",
    "gb_clf = GridSearchCV(gb_pipe, gb_param_grid, cv=3, verbose=True, n_jobs=-1)\n"
   ]
  },
  {
   "cell_type": "code",
   "execution_count": null,
   "id": "provincial-forge",
   "metadata": {},
   "outputs": [],
   "source": [
    "gb_clf.fit(X_train, y_train)"
   ]
  },
  {
   "cell_type": "code",
   "execution_count": null,
   "id": "individual-filename",
   "metadata": {},
   "outputs": [],
   "source": [
    "gb_clf.best_params_"
   ]
  },
  {
   "cell_type": "code",
   "execution_count": null,
   "id": "collectible-reminder",
   "metadata": {},
   "outputs": [],
   "source": [
    "gb_best_pipe = Pipeline([\n",
    "    ('preprocessor', preprocessor),\n",
    "    ('gb', GradientBoostingClassifier(\n",
    "                       learning_rate = 0.01,\n",
    "                       loss = 'deviance',\n",
    "                       max_depth =  7,\n",
    "                       max_features = None,\n",
    "                        min_samples_split = 2,\n",
    "                        n_estimators = 250,\n",
    "                        subsample = 1))\n",
    "])\n",
    "\n",
    "gb_best_pipe.fit(X_train, y_train)"
   ]
  },
  {
   "cell_type": "code",
   "execution_count": null,
   "id": "relevant-shopping",
   "metadata": {},
   "outputs": [],
   "source": [
    "evaluation_metrics(gb_best_pipe)"
   ]
  },
  {
   "cell_type": "code",
   "execution_count": null,
   "id": "explicit-colony",
   "metadata": {},
   "outputs": [],
   "source": []
  },
  {
   "cell_type": "code",
   "execution_count": null,
   "id": "broad-fence",
   "metadata": {},
   "outputs": [],
   "source": []
  },
  {
   "cell_type": "code",
   "execution_count": null,
   "id": "important-blogger",
   "metadata": {},
   "outputs": [],
   "source": []
  }
 ],
 "metadata": {
  "kernelspec": {
   "display_name": "Python 3",
   "language": "python",
   "name": "python3"
  },
  "language_info": {
   "codemirror_mode": {
    "name": "ipython",
    "version": 3
   },
   "file_extension": ".py",
   "mimetype": "text/x-python",
   "name": "python",
   "nbconvert_exporter": "python",
   "pygments_lexer": "ipython3",
   "version": "3.7.10"
  }
 },
 "nbformat": 4,
 "nbformat_minor": 5
}
