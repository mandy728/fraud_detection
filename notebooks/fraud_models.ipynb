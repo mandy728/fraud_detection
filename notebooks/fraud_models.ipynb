{
 "cells": [
  {
   "cell_type": "code",
   "execution_count": 1,
   "id": "appointed-reception",
   "metadata": {},
   "outputs": [],
   "source": [
    "import numpy as np\n",
    "import pandas as pd\n",
    "import matplotlib.pyplot as plt\n",
    "import seaborn as sns\n",
    "# sns.set_style(\"#f5f1e9\")\n",
    "\n",
    "from sklearn.compose import ColumnTransformer\n",
    "from sklearn.preprocessing import OneHotEncoder, LabelEncoder, StandardScaler, PolynomialFeatures\n",
    "from sklearn.pipeline import Pipeline\n",
    "from sklearn.impute import KNNImputer, SimpleImputer\n",
    "\n",
    "from sklearn.model_selection import train_test_split\n",
    "from sklearn.linear_model import LogisticRegression\n",
    "from sklearn.ensemble import RandomForestClassifier\n",
    "from sklearn.model_selection import GridSearchCV\n",
    "from sklearn.ensemble import GradientBoostingClassifier\n",
    "\n",
    "\n",
    "from sklearn.metrics import confusion_matrix\n",
    "from sklearn.metrics import accuracy_score, precision_score, recall_score, f1_score\n",
    "from sklearn.metrics import classification_report\n",
    "from sklearn.metrics import roc_curve, plot_roc_curve, auc\n",
    "from sklearn.metrics import plot_precision_recall_curve\n"
   ]
  },
  {
   "cell_type": "code",
   "execution_count": 5,
   "id": "corresponding-binding",
   "metadata": {},
   "outputs": [],
   "source": [
    "fraud_df = pd.read_json('../data/data.json')\n",
    "fraud_df['target'] = fraud_df.acct_type.str.contains('fraud')\n",
    "fraud_df.to_pickle('../data/data.p')"
   ]
  },
  {
   "cell_type": "code",
   "execution_count": null,
   "id": "buried-negative",
   "metadata": {},
   "outputs": [],
   "source": [
    "fraud_df = pd.read_pickle('../data/data.p')\n",
    "fraud_df.head(2)"
   ]
  },
  {
   "cell_type": "code",
   "execution_count": 2,
   "id": "sweet-museum",
   "metadata": {},
   "outputs": [],
   "source": [
    "fraud_flat_df = pd.read_pickle('../data/flattened_data.p')"
   ]
  },
  {
   "cell_type": "code",
   "execution_count": 3,
   "id": "specific-socket",
   "metadata": {},
   "outputs": [
    {
     "data": {
      "text/html": [
       "<div>\n",
       "<style scoped>\n",
       "    .dataframe tbody tr th:only-of-type {\n",
       "        vertical-align: middle;\n",
       "    }\n",
       "\n",
       "    .dataframe tbody tr th {\n",
       "        vertical-align: top;\n",
       "    }\n",
       "\n",
       "    .dataframe thead th {\n",
       "        text-align: right;\n",
       "    }\n",
       "</style>\n",
       "<table border=\"1\" class=\"dataframe\">\n",
       "  <thead>\n",
       "    <tr style=\"text-align: right;\">\n",
       "      <th></th>\n",
       "      <th>acct_type</th>\n",
       "      <th>approx_payout_date</th>\n",
       "      <th>body_length</th>\n",
       "      <th>channels</th>\n",
       "      <th>country_x</th>\n",
       "      <th>currency</th>\n",
       "      <th>delivery_method</th>\n",
       "      <th>description</th>\n",
       "      <th>email_domain</th>\n",
       "      <th>event_created</th>\n",
       "      <th>...</th>\n",
       "      <th>id</th>\n",
       "      <th>name_y</th>\n",
       "      <th>created</th>\n",
       "      <th>country_y</th>\n",
       "      <th>amount</th>\n",
       "      <th>state</th>\n",
       "      <th>address</th>\n",
       "      <th>uid</th>\n",
       "      <th>event</th>\n",
       "      <th>zip_code</th>\n",
       "    </tr>\n",
       "  </thead>\n",
       "  <tbody>\n",
       "    <tr>\n",
       "      <th>0</th>\n",
       "      <td>fraudster_event</td>\n",
       "      <td>2010-02-13 12:00:00</td>\n",
       "      <td>3852</td>\n",
       "      <td>5</td>\n",
       "      <td>US</td>\n",
       "      <td>USD</td>\n",
       "      <td>0.0</td>\n",
       "      <td>&lt;p&gt;&lt;a href=\"http://s432.photobucket.com/albums...</td>\n",
       "      <td>gmail.com</td>\n",
       "      <td>2010-01-06 01:01:46</td>\n",
       "      <td>...</td>\n",
       "      <td>0</td>\n",
       "      <td>NaN</td>\n",
       "      <td>NaN</td>\n",
       "      <td>NaN</td>\n",
       "      <td>NaN</td>\n",
       "      <td>NaN</td>\n",
       "      <td>NaN</td>\n",
       "      <td>NaN</td>\n",
       "      <td>NaN</td>\n",
       "      <td>NaN</td>\n",
       "    </tr>\n",
       "    <tr>\n",
       "      <th>1</th>\n",
       "      <td>premium</td>\n",
       "      <td>2011-02-03 08:00:00</td>\n",
       "      <td>3499</td>\n",
       "      <td>0</td>\n",
       "      <td>US</td>\n",
       "      <td>USD</td>\n",
       "      <td>1.0</td>\n",
       "      <td>&lt;p&gt;Join us for a quick, one-night, community-b...</td>\n",
       "      <td>ruf.org</td>\n",
       "      <td>2010-12-31 21:57:50</td>\n",
       "      <td>...</td>\n",
       "      <td>1</td>\n",
       "      <td>RUF</td>\n",
       "      <td>2010-10-01 01:10:09</td>\n",
       "      <td>US</td>\n",
       "      <td>34389.38</td>\n",
       "      <td>GA</td>\n",
       "      <td>1700 North Brown Road</td>\n",
       "      <td>5419068.0</td>\n",
       "      <td>786869.0</td>\n",
       "      <td>30043</td>\n",
       "    </tr>\n",
       "  </tbody>\n",
       "</table>\n",
       "<p>2 rows × 55 columns</p>\n",
       "</div>"
      ],
      "text/plain": [
       "         acct_type  approx_payout_date  body_length  channels country_x  \\\n",
       "0  fraudster_event 2010-02-13 12:00:00         3852         5        US   \n",
       "1          premium 2011-02-03 08:00:00         3499         0        US   \n",
       "\n",
       "  currency  delivery_method  \\\n",
       "0      USD              0.0   \n",
       "1      USD              1.0   \n",
       "\n",
       "                                         description email_domain  \\\n",
       "0  <p><a href=\"http://s432.photobucket.com/albums...    gmail.com   \n",
       "1  <p>Join us for a quick, one-night, community-b...      ruf.org   \n",
       "\n",
       "        event_created  ... id name_y              created  country_y  \\\n",
       "0 2010-01-06 01:01:46  ...  0    NaN                  NaN        NaN   \n",
       "1 2010-12-31 21:57:50  ...  1    RUF  2010-10-01 01:10:09         US   \n",
       "\n",
       "     amount  state                address        uid     event zip_code  \n",
       "0       NaN    NaN                    NaN        NaN       NaN      NaN  \n",
       "1  34389.38     GA  1700 North Brown Road  5419068.0  786869.0    30043  \n",
       "\n",
       "[2 rows x 55 columns]"
      ]
     },
     "execution_count": 3,
     "metadata": {},
     "output_type": "execute_result"
    }
   ],
   "source": [
    "fraud_flat_df.head(2)"
   ]
  },
  {
   "cell_type": "code",
   "execution_count": 6,
   "id": "suspended-senior",
   "metadata": {},
   "outputs": [
    {
     "data": {
      "text/plain": [
       "((14337, 45), (1098552, 55))"
      ]
     },
     "execution_count": 6,
     "metadata": {},
     "output_type": "execute_result"
    }
   ],
   "source": [
    "fraud_df.shape, fraud_flat_df.shape"
   ]
  },
  {
   "cell_type": "markdown",
   "id": "mobile-composition",
   "metadata": {},
   "source": [
    "# Feature Selection"
   ]
  },
  {
   "cell_type": "code",
   "execution_count": 7,
   "id": "isolated-setup",
   "metadata": {},
   "outputs": [
    {
     "data": {
      "text/plain": [
       "Index(['acct_type', 'approx_payout_date', 'body_length', 'channels',\n",
       "       'country_x', 'currency', 'delivery_method', 'description',\n",
       "       'email_domain', 'event_created', 'event_end', 'event_published',\n",
       "       'event_start', 'fb_published', 'gts', 'has_analytics', 'has_header',\n",
       "       'has_logo', 'listed', 'name_x', 'name_length', 'num_order',\n",
       "       'num_payouts', 'object_id', 'org_desc', 'org_facebook', 'org_name',\n",
       "       'org_twitter', 'payee_name', 'payout_type', 'previous_payouts',\n",
       "       'sale_duration', 'sale_duration2', 'show_map', 'ticket_types',\n",
       "       'user_age', 'user_created', 'user_type', 'venue_address',\n",
       "       'venue_country', 'venue_latitude', 'venue_longitude', 'venue_name',\n",
       "       'venue_state', 'target', 'id', 'name_y', 'created', 'country_y',\n",
       "       'amount', 'state', 'address', 'uid', 'event', 'zip_code'],\n",
       "      dtype='object')"
      ]
     },
     "execution_count": 7,
     "metadata": {},
     "output_type": "execute_result"
    }
   ],
   "source": [
    "fraud_flat_df.columns"
   ]
  },
  {
   "cell_type": "code",
   "execution_count": 8,
   "id": "protecting-desire",
   "metadata": {},
   "outputs": [
    {
     "data": {
      "text/plain": [
       "Index(['acct_type', 'approx_payout_date', 'body_length', 'channels', 'country',\n",
       "       'currency', 'delivery_method', 'description', 'email_domain',\n",
       "       'event_created', 'event_end', 'event_published', 'event_start',\n",
       "       'fb_published', 'gts', 'has_analytics', 'has_header', 'has_logo',\n",
       "       'listed', 'name', 'name_length', 'num_order', 'num_payouts',\n",
       "       'object_id', 'org_desc', 'org_facebook', 'org_name', 'org_twitter',\n",
       "       'payee_name', 'payout_type', 'previous_payouts', 'sale_duration',\n",
       "       'sale_duration2', 'show_map', 'ticket_types', 'user_age',\n",
       "       'user_created', 'user_type', 'venue_address', 'venue_country',\n",
       "       'venue_latitude', 'venue_longitude', 'venue_name', 'venue_state',\n",
       "       'target'],\n",
       "      dtype='object')"
      ]
     },
     "execution_count": 8,
     "metadata": {},
     "output_type": "execute_result"
    }
   ],
   "source": [
    "fraud_df.columns"
   ]
  },
  {
   "cell_type": "code",
   "execution_count": 9,
   "id": "married-hundred",
   "metadata": {},
   "outputs": [],
   "source": [
    "numeric_cols = ['num_order', 'num_payouts', 'sale_duration', 'user_age', 'org_facebook', 'org_twitter']\n",
    "categorical_cols = ['channels', 'country', 'delivery_method', 'email_domain',  'fb_published', \n",
    "                    'gts', 'has_analytics', 'has_header','has_logo', 'listed', \n",
    "                     'payout_type', 'show_map', 'user_type', \n",
    "                    'venue_country']\n",
    "cols = numeric_cols + categorical_cols\n"
   ]
  },
  {
   "cell_type": "code",
   "execution_count": 10,
   "id": "raised-ebony",
   "metadata": {},
   "outputs": [],
   "source": [
    "# fraud_flat_df.event.value_counts()\n",
    "# fraud_flat_df.loc[:,categorical_cols].info()"
   ]
  },
  {
   "cell_type": "code",
   "execution_count": 11,
   "id": "hired-earthquake",
   "metadata": {},
   "outputs": [
    {
     "name": "stdout",
     "output_type": "stream",
     "text": [
      "<class 'pandas.core.frame.DataFrame'>\n",
      "RangeIndex: 14337 entries, 0 to 14336\n",
      "Data columns (total 14 columns):\n",
      " #   Column           Non-Null Count  Dtype  \n",
      "---  ------           --------------  -----  \n",
      " 0   channels         14337 non-null  int64  \n",
      " 1   country          14256 non-null  object \n",
      " 2   delivery_method  14321 non-null  float64\n",
      " 3   email_domain     14337 non-null  object \n",
      " 4   fb_published     14337 non-null  int64  \n",
      " 5   gts              14337 non-null  float64\n",
      " 6   has_analytics    14337 non-null  int64  \n",
      " 7   has_header       8928 non-null   float64\n",
      " 8   has_logo         14337 non-null  int64  \n",
      " 9   listed           14337 non-null  object \n",
      " 10  payout_type      14337 non-null  object \n",
      " 11  show_map         14337 non-null  int64  \n",
      " 12  user_type        14337 non-null  int64  \n",
      " 13  venue_country    13261 non-null  object \n",
      "dtypes: float64(3), int64(6), object(5)\n",
      "memory usage: 1.5+ MB\n"
     ]
    }
   ],
   "source": [
    "fraud_df.loc[:,categorical_cols].info()"
   ]
  },
  {
   "cell_type": "code",
   "execution_count": 12,
   "id": "directed-traffic",
   "metadata": {},
   "outputs": [
    {
     "data": {
      "text/plain": [
       "(6, 14, 20)"
      ]
     },
     "execution_count": 12,
     "metadata": {},
     "output_type": "execute_result"
    }
   ],
   "source": [
    "len(numeric_cols), len(categorical_cols), len(cols)"
   ]
  },
  {
   "cell_type": "code",
   "execution_count": 13,
   "id": "strong-village",
   "metadata": {},
   "outputs": [
    {
     "data": {
      "text/html": [
       "<div>\n",
       "<style scoped>\n",
       "    .dataframe tbody tr th:only-of-type {\n",
       "        vertical-align: middle;\n",
       "    }\n",
       "\n",
       "    .dataframe tbody tr th {\n",
       "        vertical-align: top;\n",
       "    }\n",
       "\n",
       "    .dataframe thead th {\n",
       "        text-align: right;\n",
       "    }\n",
       "</style>\n",
       "<table border=\"1\" class=\"dataframe\">\n",
       "  <thead>\n",
       "    <tr style=\"text-align: right;\">\n",
       "      <th></th>\n",
       "      <th>num_order</th>\n",
       "      <th>num_payouts</th>\n",
       "      <th>sale_duration</th>\n",
       "      <th>user_age</th>\n",
       "      <th>org_facebook</th>\n",
       "      <th>org_twitter</th>\n",
       "    </tr>\n",
       "  </thead>\n",
       "  <tbody>\n",
       "    <tr>\n",
       "      <th>num_order</th>\n",
       "      <td>1.000000</td>\n",
       "      <td>-0.001860</td>\n",
       "      <td>0.101677</td>\n",
       "      <td>0.020365</td>\n",
       "      <td>0.015238</td>\n",
       "      <td>0.035910</td>\n",
       "    </tr>\n",
       "    <tr>\n",
       "      <th>num_payouts</th>\n",
       "      <td>-0.001860</td>\n",
       "      <td>1.000000</td>\n",
       "      <td>0.070484</td>\n",
       "      <td>0.210060</td>\n",
       "      <td>0.055431</td>\n",
       "      <td>0.115074</td>\n",
       "    </tr>\n",
       "    <tr>\n",
       "      <th>sale_duration</th>\n",
       "      <td>0.101677</td>\n",
       "      <td>0.070484</td>\n",
       "      <td>1.000000</td>\n",
       "      <td>0.029540</td>\n",
       "      <td>0.061867</td>\n",
       "      <td>0.065721</td>\n",
       "    </tr>\n",
       "    <tr>\n",
       "      <th>user_age</th>\n",
       "      <td>0.020365</td>\n",
       "      <td>0.210060</td>\n",
       "      <td>0.029540</td>\n",
       "      <td>1.000000</td>\n",
       "      <td>0.035943</td>\n",
       "      <td>0.106005</td>\n",
       "    </tr>\n",
       "    <tr>\n",
       "      <th>org_facebook</th>\n",
       "      <td>0.015238</td>\n",
       "      <td>0.055431</td>\n",
       "      <td>0.061867</td>\n",
       "      <td>0.035943</td>\n",
       "      <td>1.000000</td>\n",
       "      <td>0.514731</td>\n",
       "    </tr>\n",
       "    <tr>\n",
       "      <th>org_twitter</th>\n",
       "      <td>0.035910</td>\n",
       "      <td>0.115074</td>\n",
       "      <td>0.065721</td>\n",
       "      <td>0.106005</td>\n",
       "      <td>0.514731</td>\n",
       "      <td>1.000000</td>\n",
       "    </tr>\n",
       "  </tbody>\n",
       "</table>\n",
       "</div>"
      ],
      "text/plain": [
       "               num_order  num_payouts  sale_duration  user_age  org_facebook  \\\n",
       "num_order       1.000000    -0.001860       0.101677  0.020365      0.015238   \n",
       "num_payouts    -0.001860     1.000000       0.070484  0.210060      0.055431   \n",
       "sale_duration   0.101677     0.070484       1.000000  0.029540      0.061867   \n",
       "user_age        0.020365     0.210060       0.029540  1.000000      0.035943   \n",
       "org_facebook    0.015238     0.055431       0.061867  0.035943      1.000000   \n",
       "org_twitter     0.035910     0.115074       0.065721  0.106005      0.514731   \n",
       "\n",
       "               org_twitter  \n",
       "num_order         0.035910  \n",
       "num_payouts       0.115074  \n",
       "sale_duration     0.065721  \n",
       "user_age          0.106005  \n",
       "org_facebook      0.514731  \n",
       "org_twitter       1.000000  "
      ]
     },
     "execution_count": 13,
     "metadata": {},
     "output_type": "execute_result"
    }
   ],
   "source": [
    "fraud_selected = fraud_df.loc[:,numeric_cols]\n",
    "numeric_corr = fraud_selected.corr()\n",
    "numeric_corr"
   ]
  },
  {
   "cell_type": "code",
   "execution_count": 14,
   "id": "damaged-bathroom",
   "metadata": {},
   "outputs": [
    {
     "data": {
      "image/png": "[encoded data removed]",
      "text/plain": [
       "<Figure size 432x288 with 2 Axes>"
      ]
     },
     "metadata": {
      "needs_background": "light"
     },
     "output_type": "display_data"
    }
   ],
   "source": [
    "# sales duration 1 and sales duration 2 have high correlation REMOVED\n",
    "sns.heatmap(numeric_corr, xticklabels=numeric_corr.columns, yticklabels=numeric_corr.columns, cmap='RdYlBu');"
   ]
  },
  {
   "cell_type": "markdown",
   "id": "negative-liberal",
   "metadata": {},
   "source": [
    "# Feature Engineering & Preprocessing"
   ]
  },
  {
   "cell_type": "code",
   "execution_count": 15,
   "id": "freelance-adelaide",
   "metadata": {},
   "outputs": [],
   "source": [
    "fraud_df = fraud_df.where(pd.notnull(fraud_df), np.nan)"
   ]
  },
  {
   "cell_type": "code",
   "execution_count": 16,
   "id": "solar-religious",
   "metadata": {},
   "outputs": [
    {
     "name": "stdout",
     "output_type": "stream",
     "text": [
      "<class 'pandas.core.frame.DataFrame'>\n",
      "RangeIndex: 14337 entries, 0 to 14336\n",
      "Data columns (total 20 columns):\n",
      " #   Column           Non-Null Count  Dtype  \n",
      "---  ------           --------------  -----  \n",
      " 0   num_order        14337 non-null  int64  \n",
      " 1   num_payouts      14337 non-null  int64  \n",
      " 2   sale_duration    14182 non-null  float64\n",
      " 3   user_age         14337 non-null  int64  \n",
      " 4   org_facebook     14278 non-null  float64\n",
      " 5   org_twitter      14278 non-null  float64\n",
      " 6   channels         14337 non-null  int64  \n",
      " 7   country          14256 non-null  object \n",
      " 8   delivery_method  14321 non-null  float64\n",
      " 9   email_domain     14337 non-null  object \n",
      " 10  fb_published     14337 non-null  int64  \n",
      " 11  gts              14337 non-null  float64\n",
      " 12  has_analytics    14337 non-null  int64  \n",
      " 13  has_header       8928 non-null   float64\n",
      " 14  has_logo         14337 non-null  int64  \n",
      " 15  listed           14337 non-null  object \n",
      " 16  payout_type      14337 non-null  object \n",
      " 17  show_map         14337 non-null  int64  \n",
      " 18  user_type        14337 non-null  int64  \n",
      " 19  venue_country    13261 non-null  object \n",
      "dtypes: float64(6), int64(9), object(5)\n",
      "memory usage: 2.2+ MB\n"
     ]
    }
   ],
   "source": [
    "X_fraud = fraud_df.loc[:, cols]\n",
    "y_fraud = fraud_df.target\n",
    "X_fraud.info()"
   ]
  },
  {
   "cell_type": "code",
   "execution_count": 17,
   "id": "disabled-southeast",
   "metadata": {},
   "outputs": [
    {
     "data": {
      "text/plain": [
       "((10752, 20), (3585, 20), (10752,), (3585,))"
      ]
     },
     "execution_count": 17,
     "metadata": {},
     "output_type": "execute_result"
    }
   ],
   "source": [
    "X_train, X_test, y_train, y_test = train_test_split(X_fraud, y_fraud, stratify=y_fraud)\n",
    "X_train.shape, X_test.shape, y_train.shape, y_test.shape"
   ]
  },
  {
   "cell_type": "code",
   "execution_count": 18,
   "id": "following-offering",
   "metadata": {},
   "outputs": [
    {
     "data": {
      "text/plain": [
       "(5, 6)"
      ]
     },
     "execution_count": 18,
     "metadata": {},
     "output_type": "execute_result"
    }
   ],
   "source": [
    "numeric_transformer = Pipeline(steps=[\n",
    "    ('imputer', KNNImputer()),\n",
    "    ('scaler', StandardScaler())\n",
    "])\n",
    "numeric_transformer.fit_transform(fraud_df.loc[:,numeric_cols][:5]).shape"
   ]
  },
  {
   "cell_type": "code",
   "execution_count": 19,
   "id": "retired-recovery",
   "metadata": {},
   "outputs": [
    {
     "data": {
      "text/plain": [
       "<5x36 sparse matrix of type '<class 'numpy.float64'>'\n",
       "\twith 70 stored elements in Compressed Sparse Row format>"
      ]
     },
     "execution_count": 19,
     "metadata": {},
     "output_type": "execute_result"
    }
   ],
   "source": [
    "categorical_transformer = Pipeline([\n",
    "    ('imputer', SimpleImputer(missing_values=np.nan, strategy='most_frequent')),\n",
    "    ('encoder', OneHotEncoder(handle_unknown='ignore'))\n",
    "])\n",
    "categorical_transformer.fit_transform(fraud_df.loc[:,categorical_cols][:5])"
   ]
  },
  {
   "cell_type": "code",
   "execution_count": 20,
   "id": "capital-scroll",
   "metadata": {},
   "outputs": [],
   "source": [
    "fraud_categorical = categorical_transformer.fit_transform(fraud_df.loc[:,categorical_cols]).todense() \n",
    "# categorical_corr = pd.DataFrame(fraud_categorical).corr(method='pearson')"
   ]
  },
  {
   "cell_type": "code",
   "execution_count": 21,
   "id": "innovative-diving",
   "metadata": {},
   "outputs": [],
   "source": [
    "# Preprocessing\n",
    "preprocessor = ColumnTransformer(transformers=[\n",
    "    ('num', numeric_transformer, numeric_cols),\n",
    "    ('cat', categorical_transformer, categorical_cols)\n",
    "])\n",
    "\n",
    "\n",
    "logistic_reg = LogisticRegression(solver='liblinear')\n"
   ]
  },
  {
   "cell_type": "markdown",
   "id": "unsigned-romania",
   "metadata": {},
   "source": [
    "# Base Model: Logistic Regression"
   ]
  },
  {
   "cell_type": "code",
   "execution_count": 22,
   "id": "classified-nirvana",
   "metadata": {},
   "outputs": [],
   "source": [
    "# Base Model\n",
    "logistic_pipe = Pipeline([\n",
    "    ('preprocessor', preprocessor),\n",
    "    ('logistiic_reg', logistic_reg)\n",
    "])"
   ]
  },
  {
   "cell_type": "code",
   "execution_count": 23,
   "id": "filled-chess",
   "metadata": {},
   "outputs": [
    {
     "data": {
      "text/plain": [
       "Pipeline(steps=[('preprocessor',\n",
       "                 ColumnTransformer(transformers=[('num',\n",
       "                                                  Pipeline(steps=[('imputer',\n",
       "                                                                   KNNImputer()),\n",
       "                                                                  ('scaler',\n",
       "                                                                   StandardScaler())]),\n",
       "                                                  ['num_order', 'num_payouts',\n",
       "                                                   'sale_duration', 'user_age',\n",
       "                                                   'org_facebook',\n",
       "                                                   'org_twitter']),\n",
       "                                                 ('cat',\n",
       "                                                  Pipeline(steps=[('imputer',\n",
       "                                                                   SimpleImputer(strategy='most_frequent')),\n",
       "                                                                  ('encoder',\n",
       "                                                                   OneHotEncoder(handle_unknown='ignore'))]),\n",
       "                                                  ['channels', 'country',\n",
       "                                                   'delivery_method',\n",
       "                                                   'email_domain',\n",
       "                                                   'fb_published', 'gts',\n",
       "                                                   'has_analytics',\n",
       "                                                   'has_header', 'has_logo',\n",
       "                                                   'listed', 'payout_type',\n",
       "                                                   'show_map', 'user_type',\n",
       "                                                   'venue_country'])])),\n",
       "                ('logistiic_reg', LogisticRegression(solver='liblinear'))])"
      ]
     },
     "execution_count": 23,
     "metadata": {},
     "output_type": "execute_result"
    }
   ],
   "source": [
    "logistic_pipe.fit(X_train, y_train)"
   ]
  },
  {
   "cell_type": "code",
   "execution_count": 24,
   "id": "known-result",
   "metadata": {},
   "outputs": [
    {
     "data": {
      "text/plain": [
       "(0.9796316964285714, 0.9662482566248256)"
      ]
     },
     "execution_count": 24,
     "metadata": {},
     "output_type": "execute_result"
    }
   ],
   "source": [
    "logistic_pipe.score(X_train, y_train), logistic_pipe.score(X_test, y_test)"
   ]
  },
  {
   "cell_type": "code",
   "execution_count": 25,
   "id": "signed-graduate",
   "metadata": {},
   "outputs": [],
   "source": [
    "y_pred = logistic_pipe.predict(X_test)"
   ]
  },
  {
   "cell_type": "code",
   "execution_count": 26,
   "id": "cardiac-explorer",
   "metadata": {},
   "outputs": [
    {
     "data": {
      "text/plain": [
       "array([[3235,   27],\n",
       "       [  94,  229]])"
      ]
     },
     "execution_count": 26,
     "metadata": {},
     "output_type": "execute_result"
    }
   ],
   "source": [
    "confusion = confusion_matrix(y_test, y_pred)\n",
    "confusion"
   ]
  },
  {
   "cell_type": "code",
   "execution_count": 27,
   "id": "rocky-essex",
   "metadata": {},
   "outputs": [
    {
     "data": {
      "text/plain": [
       "''"
      ]
     },
     "execution_count": 27,
     "metadata": {},
     "output_type": "execute_result"
    },
    {
     "data": {
      "image/png": "[encoded data removed]",
      "text/plain": [
       "<Figure size 360x288 with 2 Axes>"
      ]
     },
     "metadata": {
      "needs_background": "light"
     },
     "output_type": "display_data"
    }
   ],
   "source": [
    "cm = confusion/confusion.sum(axis=1).reshape(-1,1)\n",
    "\n",
    "fig, ax = plt.subplots(1, figsize = (5,4))\n",
    "sns.heatmap(cm,annot=True, cmap='RdBu', ax = ax, fmt='.2f', cbar=True, center = 0.02, \\\n",
    "            linewidths=1, linecolor='k',  yticklabels=['Not Fraud', 'Fraud'], xticklabels=['Not Fraud', 'Fraud'])\n",
    "ax.set_xlabel('Predicted')\n",
    "ax.set_ylabel('Actual')\n",
    "ax.set_title('Confusion Matrix', fontsize=17)\n",
    "\n",
    "\n",
    "\n",
    ";"
   ]
  },
  {
   "cell_type": "code",
   "execution_count": 28,
   "id": "computational-divide",
   "metadata": {},
   "outputs": [
    {
     "name": "stdout",
     "output_type": "stream",
     "text": [
      "              precision    recall  f1-score   support\n",
      "\n",
      "   Not Fraud       0.97      0.99      0.98      3262\n",
      "       Fraud       0.89      0.71      0.79       323\n",
      "\n",
      "    accuracy                           0.97      3585\n",
      "   macro avg       0.93      0.85      0.89      3585\n",
      "weighted avg       0.96      0.97      0.96      3585\n",
      "\n"
     ]
    }
   ],
   "source": [
    "# our model predicted that 31% will be legitimate transaction when they were in fact should have been fraud alert\n",
    "print(classification_report(y_test, y_pred, target_names=['Not Fraud', 'Fraud']))"
   ]
  },
  {
   "cell_type": "code",
   "execution_count": 29,
   "id": "indian-classification",
   "metadata": {},
   "outputs": [
    {
     "data": {
      "image/png": "[encoded data removed]",
      "text/plain": [
       "<Figure size 432x288 with 1 Axes>"
      ]
     },
     "metadata": {
      "needs_background": "light"
     },
     "output_type": "display_data"
    }
   ],
   "source": [
    "fig, ax = plt.subplots()\n",
    "plot_roc_curve(logistic_pipe, X_test, y_test, ax=ax );"
   ]
  },
  {
   "cell_type": "code",
   "execution_count": 30,
   "id": "precious-burlington",
   "metadata": {
    "scrolled": true
   },
   "outputs": [
    {
     "data": {
      "image/png": "[encoded data removed]",
      "text/plain": [
       "<Figure size 432x288 with 1 Axes>"
      ]
     },
     "metadata": {
      "needs_background": "light"
     },
     "output_type": "display_data"
    }
   ],
   "source": [
    "probs = logistic_pipe.predict_proba(X_test)\n",
    "preds = probs[:,1]\n",
    "fpr, tpr, threshold = roc_curve(y_test, preds)\n",
    "roc_auc = auc(fpr, tpr)\n",
    "\n",
    "plt.title('Receiver Operating Characteristic')\n",
    "plt.plot(fpr, tpr, 'b', label = 'AUC = %0.2f' % roc_auc)\n",
    "plt.legend(loc = 'lower right')\n",
    "plt.plot([0, 1], [0, 1],'r--')\n",
    "plt.xlim([0, 1])\n",
    "plt.ylim([0, 1])\n",
    "plt.ylabel('True Positive Rate')\n",
    "plt.xlabel('False Positive Rate')\n",
    "plt.show()"
   ]
  },
  {
   "cell_type": "code",
   "execution_count": 31,
   "id": "applied-orange",
   "metadata": {},
   "outputs": [],
   "source": [
    "def evaluation_metrics(pipe):\n",
    "    fig, axs = plt.subplots(3, figsize = (6,12))\n",
    "    fig.tight_layout(pad=3)\n",
    "    \n",
    "    y_pred = pipe.predict(X_test)\n",
    "    confusion = confusion_matrix(y_test, y_pred)\n",
    "    cm = confusion/confusion.sum(axis=1).reshape(-1,1)\n",
    "\n",
    "    sns.heatmap(cm,annot=True, cmap='RdBu', ax = axs[0], fmt='.2f', cbar=True, center = 0.02, \\\n",
    "                linewidths=1, linecolor='k',  yticklabels=['Not Fraud', 'Fraud'], xticklabels=['Not Fraud', 'Fraud'])\n",
    "    axs[0].set_xlabel('Predicted')\n",
    "    axs[0].set_ylabel('Actual')\n",
    "    axs[0].set_title('Confusion Matrix', fontsize=17)\n",
    "    \n",
    "    print(classification_report(y_test, y_pred, target_names=['Not Fraud', 'Fraud']))\n",
    "    \n",
    "    roc = plot_roc_curve(pipe, X_test, y_test, ax=axs[1] )\n",
    "    roc.ax_.set_title('Receiver Operating Characterstic', fontsize=17)\n",
    "    precision_recall = plot_precision_recall_curve(pipe, X_test, y_test, ax=axs[2])\n",
    "    precision_recall.ax_.set_title('Precision-Recall curve', fontsize=17)\n",
    "    "
   ]
  },
  {
   "cell_type": "code",
   "execution_count": 32,
   "id": "lyric-place",
   "metadata": {},
   "outputs": [
    {
     "name": "stdout",
     "output_type": "stream",
     "text": [
      "              precision    recall  f1-score   support\n",
      "\n",
      "   Not Fraud       0.97      0.99      0.98      3262\n",
      "       Fraud       0.89      0.71      0.79       323\n",
      "\n",
      "    accuracy                           0.97      3585\n",
      "   macro avg       0.93      0.85      0.89      3585\n",
      "weighted avg       0.96      0.97      0.96      3585\n",
      "\n"
     ]
    },
    {
     "data": {
      "image/png": "[encoded data removed]",
      "text/plain": [
       "<Figure size 432x864 with 4 Axes>"
      ]
     },
     "metadata": {
      "needs_background": "light"
     },
     "output_type": "display_data"
    }
   ],
   "source": [
    "evaluation_metrics(logistic_pipe)"
   ]
  },
  {
   "cell_type": "markdown",
   "id": "japanese-morgan",
   "metadata": {},
   "source": [
    "# Random Forest"
   ]
  },
  {
   "cell_type": "code",
   "execution_count": 49,
   "id": "toxic-development",
   "metadata": {},
   "outputs": [],
   "source": [
    "rf_pipe = Pipeline([\n",
    "    ('preprocessor', preprocessor),\n",
    "    ('classifier', RandomForestClassifier())\n",
    "])\n",
    "\n",
    "rf_param_grid = [\n",
    "    {'classifier': [LogisticRegression()],\n",
    "     'classifier__penalty': ['l1', 'l2'],\n",
    "     'classifier__C': np.logspace(-4,4,10),\n",
    "     'classifier__solver': ['liblinear']\n",
    "    }, \n",
    "    {'classifier': [RandomForestClassifier()],\n",
    "     'classifier__n_estimators': list(range(50,201,10)),\n",
    "     'classifier__max_features': list(range(3,20, 5))\n",
    "    \n",
    "    }\n",
    "    \n",
    "]"
   ]
  },
  {
   "cell_type": "code",
   "execution_count": 51,
   "id": "quick-framework",
   "metadata": {},
   "outputs": [
    {
     "name": "stdout",
     "output_type": "stream",
     "text": [
      "Fitting 5 folds for each of 84 candidates, totalling 420 fits\n"
     ]
    },
    {
     "data": {
      "text/plain": [
       "GridSearchCV(cv=5,\n",
       "             estimator=Pipeline(steps=[('preprocessor',\n",
       "                                        ColumnTransformer(transformers=[('num',\n",
       "                                                                         Pipeline(steps=[('imputer',\n",
       "                                                                                          KNNImputer()),\n",
       "                                                                                         ('scaler',\n",
       "                                                                                          StandardScaler())]),\n",
       "                                                                         ['num_order',\n",
       "                                                                          'num_payouts',\n",
       "                                                                          'sale_duration',\n",
       "                                                                          'user_age',\n",
       "                                                                          'org_facebook',\n",
       "                                                                          'org_twitter']),\n",
       "                                                                        ('cat',\n",
       "                                                                         Pipeline(steps=[('imputer',\n",
       "                                                                                          SimpleImputer(strategy='most_frequent')),\n",
       "                                                                                         ('encoder',\n",
       "                                                                                          OneHotEnc...\n",
       "       3.59381366e-01, 2.78255940e+00, 2.15443469e+01, 1.66810054e+02,\n",
       "       1.29154967e+03, 1.00000000e+04]),\n",
       "                          'classifier__penalty': ['l1', 'l2'],\n",
       "                          'classifier__solver': ['liblinear']},\n",
       "                         {'classifier': [RandomForestClassifier(max_features=18,\n",
       "                                                                n_estimators=190)],\n",
       "                          'classifier__max_features': [3, 8, 13, 18],\n",
       "                          'classifier__n_estimators': [50, 60, 70, 80, 90, 100,\n",
       "                                                       110, 120, 130, 140, 150,\n",
       "                                                       160, 170, 180, 190,\n",
       "                                                       200]}],\n",
       "             verbose=True)"
      ]
     },
     "execution_count": 51,
     "metadata": {},
     "output_type": "execute_result"
    }
   ],
   "source": [
    "rf_clf = GridSearchCV(rf_pipe, rf_param_grid, cv=5, verbose=True, n_jobs=-1)\n",
    "rf_clf.fit(X_train, y_train)"
   ]
  },
  {
   "cell_type": "code",
   "execution_count": 53,
   "id": "taken-terrorism",
   "metadata": {},
   "outputs": [
    {
     "data": {
      "text/plain": [
       "{'mean_fit_time': array([ 0.41836257,  0.40918884,  0.38383265,  0.40188713,  0.41536055,\n",
       "         0.40647569,  0.4836617 ,  0.40233636,  0.61896663,  0.42016463,\n",
       "         1.28018284,  0.50977097,  1.21200256,  0.60023198,  1.12287335,\n",
       "         0.7540103 ,  1.31064377,  0.92343054,  1.37040758,  1.05458741,\n",
       "         3.01995311,  3.51174831,  4.06922984,  4.49047775,  5.02617583,\n",
       "         5.58881931,  6.10169244,  6.51270609,  7.02772675,  7.54780574,\n",
       "         8.04083772,  8.60098281,  9.06918502,  9.55481744, 10.23711982,\n",
       "        10.78788433,  2.79610243,  3.2913208 ,  3.75201035,  4.17166133,\n",
       "         4.65213861,  5.12501345,  5.56268196,  6.04415922,  6.53961596,\n",
       "         7.00059509,  7.42979298,  7.90650134,  8.44796557,  8.91963439,\n",
       "         9.36801586,  9.86680527,  2.67838411,  3.19160957,  3.62680449,\n",
       "         4.08190928,  4.71558499,  5.03849373,  5.40554914,  5.84500117,\n",
       "         6.3336648 ,  6.76280742,  7.20575061,  7.76166773,  8.54702134,\n",
       "         8.84012227,  9.03742375,  9.5535614 ,  2.63072004,  3.16827068,\n",
       "         3.76684618,  4.06983643,  4.47188511,  5.03210359,  5.48385434,\n",
       "         5.76405578,  6.25756412,  6.82640567,  7.39727836,  7.65295782,\n",
       "         8.13803034,  8.66795497,  8.88687   ,  7.89674459]),\n",
       " 'std_fit_time': array([0.00960243, 0.01952977, 0.00720821, 0.0094444 , 0.00590298,\n",
       "        0.0095394 , 0.01881234, 0.009585  , 0.06993697, 0.01203306,\n",
       "        0.08525016, 0.01600342, 0.1409274 , 0.01734178, 0.41031715,\n",
       "        0.03028943, 0.19142217, 0.12099977, 0.31588947, 0.12032026,\n",
       "        0.05030975, 0.07325402, 0.04405435, 0.04539565, 0.08370698,\n",
       "        0.15046165, 0.12742952, 0.11811296, 0.04837615, 0.0918684 ,\n",
       "        0.16613293, 0.11466872, 0.19773659, 0.14412914, 0.18701532,\n",
       "        0.20943718, 0.05706108, 0.06143982, 0.07084404, 0.09142432,\n",
       "        0.06976142, 0.07398221, 0.11705304, 0.12505569, 0.12902625,\n",
       "        0.1686289 , 0.07234722, 0.12826064, 0.14180504, 0.09772532,\n",
       "        0.15533234, 0.19171235, 0.0764085 , 0.05763252, 0.03160196,\n",
       "        0.10671841, 0.0670199 , 0.07875075, 0.0582234 , 0.11913723,\n",
       "        0.09132367, 0.1023798 , 0.09798407, 0.20159474, 0.11163993,\n",
       "        0.15814599, 0.12673608, 0.16577225, 0.03284849, 0.11250215,\n",
       "        0.06235477, 0.05060516, 0.11041541, 0.09783191, 0.06863912,\n",
       "        0.10335041, 0.09591978, 0.22670425, 0.13674985, 0.15825814,\n",
       "        0.18082809, 0.11399012, 0.14801633, 0.56885698]),\n",
       " 'mean_score_time': array([0.13751903, 0.14996996, 0.14177423, 0.14266806, 0.14805336,\n",
       "        0.14941349, 0.13677945, 0.13639865, 0.14382124, 0.14888721,\n",
       "        0.14528952, 0.14501619, 0.16095176, 0.1631916 , 0.16871109,\n",
       "        0.17858076, 0.16792464, 0.17051864, 0.16657352, 0.16026039,\n",
       "        0.33375998, 0.38433499, 0.42042413, 0.45441842, 0.49189348,\n",
       "        0.55304565, 0.56594644, 0.59647641, 0.63475285, 0.66770616,\n",
       "        0.70821733, 0.74608312, 0.78147817, 0.83532453, 0.85812883,\n",
       "        0.93310781, 0.27874651, 0.30247345, 0.32201781, 0.353544  ,\n",
       "        0.36724682, 0.39688601, 0.41906905, 0.4368196 , 0.46637115,\n",
       "        0.48791156, 0.51251845, 0.53359666, 0.57229443, 0.58965173,\n",
       "        0.61369219, 0.63908978, 0.24395518, 0.27460728, 0.28829541,\n",
       "        0.31306825, 0.32073169, 0.34341488, 0.36432328, 0.37961473,\n",
       "        0.40256515, 0.42077804, 0.44518428, 0.46110253, 0.4954042 ,\n",
       "        0.50461264, 0.51686363, 0.55189476, 0.23116298, 0.272052  ,\n",
       "        0.26480374, 0.28650374, 0.3103909 , 0.33362436, 0.33052573,\n",
       "        0.35273185, 0.37145948, 0.44095712, 0.40003052, 0.42204251,\n",
       "        0.45529866, 0.45383105, 0.45176005, 0.33653321]),\n",
       " 'std_score_time': array([0.00548197, 0.01108707, 0.00503814, 0.00652078, 0.00901794,\n",
       "        0.00611527, 0.00398021, 0.00422506, 0.00687696, 0.00769885,\n",
       "        0.00478385, 0.00603996, 0.00438954, 0.00489357, 0.01430549,\n",
       "        0.00667882, 0.00752166, 0.00600317, 0.00922093, 0.00721412,\n",
       "        0.01323425, 0.01506571, 0.01569413, 0.02574036, 0.01632393,\n",
       "        0.01066029, 0.00858436, 0.01295452, 0.01833974, 0.01528829,\n",
       "        0.01720519, 0.01072171, 0.02520782, 0.00816926, 0.01282462,\n",
       "        0.0223137 , 0.01023597, 0.00593957, 0.00816127, 0.00905125,\n",
       "        0.00826914, 0.01219049, 0.00726853, 0.01086131, 0.01149953,\n",
       "        0.01043058, 0.00970104, 0.01005651, 0.01392776, 0.01342507,\n",
       "        0.00835359, 0.00905531, 0.00327813, 0.00754526, 0.00328261,\n",
       "        0.00479337, 0.01111863, 0.00685479, 0.00909808, 0.00842673,\n",
       "        0.01370739, 0.01245596, 0.00530355, 0.01212037, 0.0263625 ,\n",
       "        0.00671824, 0.00422339, 0.01949295, 0.00540639, 0.01440643,\n",
       "        0.00567311, 0.01118662, 0.01501146, 0.02281053, 0.00781032,\n",
       "        0.00937268, 0.011716  , 0.08419428, 0.00635356, 0.00680467,\n",
       "        0.01631326, 0.00725831, 0.03143153, 0.03125352]),\n",
       " 'param_classifier': masked_array(data=[LogisticRegression(), LogisticRegression(),\n",
       "                    LogisticRegression(), LogisticRegression(),\n",
       "                    LogisticRegression(), LogisticRegression(),\n",
       "                    LogisticRegression(), LogisticRegression(),\n",
       "                    LogisticRegression(), LogisticRegression(),\n",
       "                    LogisticRegression(), LogisticRegression(),\n",
       "                    LogisticRegression(), LogisticRegression(),\n",
       "                    LogisticRegression(), LogisticRegression(),\n",
       "                    LogisticRegression(), LogisticRegression(),\n",
       "                    LogisticRegression(), LogisticRegression(),\n",
       "                    RandomForestClassifier(max_features=18, n_estimators=190),\n",
       "                    RandomForestClassifier(max_features=18, n_estimators=190),\n",
       "                    RandomForestClassifier(max_features=18, n_estimators=190),\n",
       "                    RandomForestClassifier(max_features=18, n_estimators=190),\n",
       "                    RandomForestClassifier(max_features=18, n_estimators=190),\n",
       "                    RandomForestClassifier(max_features=18, n_estimators=190),\n",
       "                    RandomForestClassifier(max_features=18, n_estimators=190),\n",
       "                    RandomForestClassifier(max_features=18, n_estimators=190),\n",
       "                    RandomForestClassifier(max_features=18, n_estimators=190),\n",
       "                    RandomForestClassifier(max_features=18, n_estimators=190),\n",
       "                    RandomForestClassifier(max_features=18, n_estimators=190),\n",
       "                    RandomForestClassifier(max_features=18, n_estimators=190),\n",
       "                    RandomForestClassifier(max_features=18, n_estimators=190),\n",
       "                    RandomForestClassifier(max_features=18, n_estimators=190),\n",
       "                    RandomForestClassifier(max_features=18, n_estimators=190),\n",
       "                    RandomForestClassifier(max_features=18, n_estimators=190),\n",
       "                    RandomForestClassifier(max_features=18, n_estimators=190),\n",
       "                    RandomForestClassifier(max_features=18, n_estimators=190),\n",
       "                    RandomForestClassifier(max_features=18, n_estimators=190),\n",
       "                    RandomForestClassifier(max_features=18, n_estimators=190),\n",
       "                    RandomForestClassifier(max_features=18, n_estimators=190),\n",
       "                    RandomForestClassifier(max_features=18, n_estimators=190),\n",
       "                    RandomForestClassifier(max_features=18, n_estimators=190),\n",
       "                    RandomForestClassifier(max_features=18, n_estimators=190),\n",
       "                    RandomForestClassifier(max_features=18, n_estimators=190),\n",
       "                    RandomForestClassifier(max_features=18, n_estimators=190),\n",
       "                    RandomForestClassifier(max_features=18, n_estimators=190),\n",
       "                    RandomForestClassifier(max_features=18, n_estimators=190),\n",
       "                    RandomForestClassifier(max_features=18, n_estimators=190),\n",
       "                    RandomForestClassifier(max_features=18, n_estimators=190),\n",
       "                    RandomForestClassifier(max_features=18, n_estimators=190),\n",
       "                    RandomForestClassifier(max_features=18, n_estimators=190),\n",
       "                    RandomForestClassifier(max_features=18, n_estimators=190),\n",
       "                    RandomForestClassifier(max_features=18, n_estimators=190),\n",
       "                    RandomForestClassifier(max_features=18, n_estimators=190),\n",
       "                    RandomForestClassifier(max_features=18, n_estimators=190),\n",
       "                    RandomForestClassifier(max_features=18, n_estimators=190),\n",
       "                    RandomForestClassifier(max_features=18, n_estimators=190),\n",
       "                    RandomForestClassifier(max_features=18, n_estimators=190),\n",
       "                    RandomForestClassifier(max_features=18, n_estimators=190),\n",
       "                    RandomForestClassifier(max_features=18, n_estimators=190),\n",
       "                    RandomForestClassifier(max_features=18, n_estimators=190),\n",
       "                    RandomForestClassifier(max_features=18, n_estimators=190),\n",
       "                    RandomForestClassifier(max_features=18, n_estimators=190),\n",
       "                    RandomForestClassifier(max_features=18, n_estimators=190),\n",
       "                    RandomForestClassifier(max_features=18, n_estimators=190),\n",
       "                    RandomForestClassifier(max_features=18, n_estimators=190),\n",
       "                    RandomForestClassifier(max_features=18, n_estimators=190),\n",
       "                    RandomForestClassifier(max_features=18, n_estimators=190),\n",
       "                    RandomForestClassifier(max_features=18, n_estimators=190),\n",
       "                    RandomForestClassifier(max_features=18, n_estimators=190),\n",
       "                    RandomForestClassifier(max_features=18, n_estimators=190),\n",
       "                    RandomForestClassifier(max_features=18, n_estimators=190),\n",
       "                    RandomForestClassifier(max_features=18, n_estimators=190),\n",
       "                    RandomForestClassifier(max_features=18, n_estimators=190),\n",
       "                    RandomForestClassifier(max_features=18, n_estimators=190),\n",
       "                    RandomForestClassifier(max_features=18, n_estimators=190),\n",
       "                    RandomForestClassifier(max_features=18, n_estimators=190),\n",
       "                    RandomForestClassifier(max_features=18, n_estimators=190),\n",
       "                    RandomForestClassifier(max_features=18, n_estimators=190),\n",
       "                    RandomForestClassifier(max_features=18, n_estimators=190),\n",
       "                    RandomForestClassifier(max_features=18, n_estimators=190),\n",
       "                    RandomForestClassifier(max_features=18, n_estimators=190),\n",
       "                    RandomForestClassifier(max_features=18, n_estimators=190)],\n",
       "              mask=[False, False, False, False, False, False, False, False,\n",
       "                    False, False, False, False, False, False, False, False,\n",
       "                    False, False, False, False, False, False, False, False,\n",
       "                    False, False, False, False, False, False, False, False,\n",
       "                    False, False, False, False, False, False, False, False,\n",
       "                    False, False, False, False, False, False, False, False,\n",
       "                    False, False, False, False, False, False, False, False,\n",
       "                    False, False, False, False, False, False, False, False,\n",
       "                    False, False, False, False, False, False, False, False,\n",
       "                    False, False, False, False, False, False, False, False,\n",
       "                    False, False, False, False],\n",
       "        fill_value='?',\n",
       "             dtype=object),\n",
       " 'param_classifier__C': masked_array(data=[0.0001, 0.0001, 0.000774263682681127,\n",
       "                    0.000774263682681127, 0.005994842503189409,\n",
       "                    0.005994842503189409, 0.046415888336127774,\n",
       "                    0.046415888336127774, 0.3593813663804626,\n",
       "                    0.3593813663804626, 2.782559402207126,\n",
       "                    2.782559402207126, 21.54434690031882,\n",
       "                    21.54434690031882, 166.81005372000558,\n",
       "                    166.81005372000558, 1291.5496650148827,\n",
       "                    1291.5496650148827, 10000.0, 10000.0, --, --, --, --,\n",
       "                    --, --, --, --, --, --, --, --, --, --, --, --, --, --,\n",
       "                    --, --, --, --, --, --, --, --, --, --, --, --, --, --,\n",
       "                    --, --, --, --, --, --, --, --, --, --, --, --, --, --,\n",
       "                    --, --, --, --, --, --, --, --, --, --, --, --, --, --,\n",
       "                    --, --, --, --],\n",
       "              mask=[False, False, False, False, False, False, False, False,\n",
       "                    False, False, False, False, False, False, False, False,\n",
       "                    False, False, False, False,  True,  True,  True,  True,\n",
       "                     True,  True,  True,  True,  True,  True,  True,  True,\n",
       "                     True,  True,  True,  True,  True,  True,  True,  True,\n",
       "                     True,  True,  True,  True,  True,  True,  True,  True,\n",
       "                     True,  True,  True,  True,  True,  True,  True,  True,\n",
       "                     True,  True,  True,  True,  True,  True,  True,  True,\n",
       "                     True,  True,  True,  True,  True,  True,  True,  True,\n",
       "                     True,  True,  True,  True,  True,  True,  True,  True,\n",
       "                     True,  True,  True,  True],\n",
       "        fill_value='?',\n",
       "             dtype=object),\n",
       " 'param_classifier__penalty': masked_array(data=['l1', 'l2', 'l1', 'l2', 'l1', 'l2', 'l1', 'l2', 'l1',\n",
       "                    'l2', 'l1', 'l2', 'l1', 'l2', 'l1', 'l2', 'l1', 'l2',\n",
       "                    'l1', 'l2', --, --, --, --, --, --, --, --, --, --, --,\n",
       "                    --, --, --, --, --, --, --, --, --, --, --, --, --, --,\n",
       "                    --, --, --, --, --, --, --, --, --, --, --, --, --, --,\n",
       "                    --, --, --, --, --, --, --, --, --, --, --, --, --, --,\n",
       "                    --, --, --, --, --, --, --, --, --, --, --],\n",
       "              mask=[False, False, False, False, False, False, False, False,\n",
       "                    False, False, False, False, False, False, False, False,\n",
       "                    False, False, False, False,  True,  True,  True,  True,\n",
       "                     True,  True,  True,  True,  True,  True,  True,  True,\n",
       "                     True,  True,  True,  True,  True,  True,  True,  True,\n",
       "                     True,  True,  True,  True,  True,  True,  True,  True,\n",
       "                     True,  True,  True,  True,  True,  True,  True,  True,\n",
       "                     True,  True,  True,  True,  True,  True,  True,  True,\n",
       "                     True,  True,  True,  True,  True,  True,  True,  True,\n",
       "                     True,  True,  True,  True,  True,  True,  True,  True,\n",
       "                     True,  True,  True,  True],\n",
       "        fill_value='?',\n",
       "             dtype=object),\n",
       " 'param_classifier__solver': masked_array(data=['liblinear', 'liblinear', 'liblinear', 'liblinear',\n",
       "                    'liblinear', 'liblinear', 'liblinear', 'liblinear',\n",
       "                    'liblinear', 'liblinear', 'liblinear', 'liblinear',\n",
       "                    'liblinear', 'liblinear', 'liblinear', 'liblinear',\n",
       "                    'liblinear', 'liblinear', 'liblinear', 'liblinear', --,\n",
       "                    --, --, --, --, --, --, --, --, --, --, --, --, --, --,\n",
       "                    --, --, --, --, --, --, --, --, --, --, --, --, --, --,\n",
       "                    --, --, --, --, --, --, --, --, --, --, --, --, --, --,\n",
       "                    --, --, --, --, --, --, --, --, --, --, --, --, --, --,\n",
       "                    --, --, --, --, --, --, --],\n",
       "              mask=[False, False, False, False, False, False, False, False,\n",
       "                    False, False, False, False, False, False, False, False,\n",
       "                    False, False, False, False,  True,  True,  True,  True,\n",
       "                     True,  True,  True,  True,  True,  True,  True,  True,\n",
       "                     True,  True,  True,  True,  True,  True,  True,  True,\n",
       "                     True,  True,  True,  True,  True,  True,  True,  True,\n",
       "                     True,  True,  True,  True,  True,  True,  True,  True,\n",
       "                     True,  True,  True,  True,  True,  True,  True,  True,\n",
       "                     True,  True,  True,  True,  True,  True,  True,  True,\n",
       "                     True,  True,  True,  True,  True,  True,  True,  True,\n",
       "                     True,  True,  True,  True],\n",
       "        fill_value='?',\n",
       "             dtype=object),\n",
       " 'param_classifier__max_features': masked_array(data=[--, --, --, --, --, --, --, --, --, --, --, --, --, --,\n",
       "                    --, --, --, --, --, --, 3, 3, 3, 3, 3, 3, 3, 3, 3, 3,\n",
       "                    3, 3, 3, 3, 3, 3, 8, 8, 8, 8, 8, 8, 8, 8, 8, 8, 8, 8,\n",
       "                    8, 8, 8, 8, 13, 13, 13, 13, 13, 13, 13, 13, 13, 13, 13,\n",
       "                    13, 13, 13, 13, 13, 18, 18, 18, 18, 18, 18, 18, 18, 18,\n",
       "                    18, 18, 18, 18, 18, 18, 18],\n",
       "              mask=[ True,  True,  True,  True,  True,  True,  True,  True,\n",
       "                     True,  True,  True,  True,  True,  True,  True,  True,\n",
       "                     True,  True,  True,  True, False, False, False, False,\n",
       "                    False, False, False, False, False, False, False, False,\n",
       "                    False, False, False, False, False, False, False, False,\n",
       "                    False, False, False, False, False, False, False, False,\n",
       "                    False, False, False, False, False, False, False, False,\n",
       "                    False, False, False, False, False, False, False, False,\n",
       "                    False, False, False, False, False, False, False, False,\n",
       "                    False, False, False, False, False, False, False, False,\n",
       "                    False, False, False, False],\n",
       "        fill_value='?',\n",
       "             dtype=object),\n",
       " 'param_classifier__n_estimators': masked_array(data=[--, --, --, --, --, --, --, --, --, --, --, --, --, --,\n",
       "                    --, --, --, --, --, --, 50, 60, 70, 80, 90, 100, 110,\n",
       "                    120, 130, 140, 150, 160, 170, 180, 190, 200, 50, 60,\n",
       "                    70, 80, 90, 100, 110, 120, 130, 140, 150, 160, 170,\n",
       "                    180, 190, 200, 50, 60, 70, 80, 90, 100, 110, 120, 130,\n",
       "                    140, 150, 160, 170, 180, 190, 200, 50, 60, 70, 80, 90,\n",
       "                    100, 110, 120, 130, 140, 150, 160, 170, 180, 190, 200],\n",
       "              mask=[ True,  True,  True,  True,  True,  True,  True,  True,\n",
       "                     True,  True,  True,  True,  True,  True,  True,  True,\n",
       "                     True,  True,  True,  True, False, False, False, False,\n",
       "                    False, False, False, False, False, False, False, False,\n",
       "                    False, False, False, False, False, False, False, False,\n",
       "                    False, False, False, False, False, False, False, False,\n",
       "                    False, False, False, False, False, False, False, False,\n",
       "                    False, False, False, False, False, False, False, False,\n",
       "                    False, False, False, False, False, False, False, False,\n",
       "                    False, False, False, False, False, False, False, False,\n",
       "                    False, False, False, False],\n",
       "        fill_value='?',\n",
       "             dtype=object),\n",
       " 'params': [{'classifier': LogisticRegression(),\n",
       "   'classifier__C': 0.0001,\n",
       "   'classifier__penalty': 'l1',\n",
       "   'classifier__solver': 'liblinear'},\n",
       "  {'classifier': LogisticRegression(),\n",
       "   'classifier__C': 0.0001,\n",
       "   'classifier__penalty': 'l2',\n",
       "   'classifier__solver': 'liblinear'},\n",
       "  {'classifier': LogisticRegression(),\n",
       "   'classifier__C': 0.000774263682681127,\n",
       "   'classifier__penalty': 'l1',\n",
       "   'classifier__solver': 'liblinear'},\n",
       "  {'classifier': LogisticRegression(),\n",
       "   'classifier__C': 0.000774263682681127,\n",
       "   'classifier__penalty': 'l2',\n",
       "   'classifier__solver': 'liblinear'},\n",
       "  {'classifier': LogisticRegression(),\n",
       "   'classifier__C': 0.005994842503189409,\n",
       "   'classifier__penalty': 'l1',\n",
       "   'classifier__solver': 'liblinear'},\n",
       "  {'classifier': LogisticRegression(),\n",
       "   'classifier__C': 0.005994842503189409,\n",
       "   'classifier__penalty': 'l2',\n",
       "   'classifier__solver': 'liblinear'},\n",
       "  {'classifier': LogisticRegression(),\n",
       "   'classifier__C': 0.046415888336127774,\n",
       "   'classifier__penalty': 'l1',\n",
       "   'classifier__solver': 'liblinear'},\n",
       "  {'classifier': LogisticRegression(),\n",
       "   'classifier__C': 0.046415888336127774,\n",
       "   'classifier__penalty': 'l2',\n",
       "   'classifier__solver': 'liblinear'},\n",
       "  {'classifier': LogisticRegression(),\n",
       "   'classifier__C': 0.3593813663804626,\n",
       "   'classifier__penalty': 'l1',\n",
       "   'classifier__solver': 'liblinear'},\n",
       "  {'classifier': LogisticRegression(),\n",
       "   'classifier__C': 0.3593813663804626,\n",
       "   'classifier__penalty': 'l2',\n",
       "   'classifier__solver': 'liblinear'},\n",
       "  {'classifier': LogisticRegression(),\n",
       "   'classifier__C': 2.782559402207126,\n",
       "   'classifier__penalty': 'l1',\n",
       "   'classifier__solver': 'liblinear'},\n",
       "  {'classifier': LogisticRegression(),\n",
       "   'classifier__C': 2.782559402207126,\n",
       "   'classifier__penalty': 'l2',\n",
       "   'classifier__solver': 'liblinear'},\n",
       "  {'classifier': LogisticRegression(),\n",
       "   'classifier__C': 21.54434690031882,\n",
       "   'classifier__penalty': 'l1',\n",
       "   'classifier__solver': 'liblinear'},\n",
       "  {'classifier': LogisticRegression(),\n",
       "   'classifier__C': 21.54434690031882,\n",
       "   'classifier__penalty': 'l2',\n",
       "   'classifier__solver': 'liblinear'},\n",
       "  {'classifier': LogisticRegression(),\n",
       "   'classifier__C': 166.81005372000558,\n",
       "   'classifier__penalty': 'l1',\n",
       "   'classifier__solver': 'liblinear'},\n",
       "  {'classifier': LogisticRegression(),\n",
       "   'classifier__C': 166.81005372000558,\n",
       "   'classifier__penalty': 'l2',\n",
       "   'classifier__solver': 'liblinear'},\n",
       "  {'classifier': LogisticRegression(),\n",
       "   'classifier__C': 1291.5496650148827,\n",
       "   'classifier__penalty': 'l1',\n",
       "   'classifier__solver': 'liblinear'},\n",
       "  {'classifier': LogisticRegression(),\n",
       "   'classifier__C': 1291.5496650148827,\n",
       "   'classifier__penalty': 'l2',\n",
       "   'classifier__solver': 'liblinear'},\n",
       "  {'classifier': LogisticRegression(),\n",
       "   'classifier__C': 10000.0,\n",
       "   'classifier__penalty': 'l1',\n",
       "   'classifier__solver': 'liblinear'},\n",
       "  {'classifier': LogisticRegression(),\n",
       "   'classifier__C': 10000.0,\n",
       "   'classifier__penalty': 'l2',\n",
       "   'classifier__solver': 'liblinear'},\n",
       "  {'classifier': RandomForestClassifier(max_features=18, n_estimators=190),\n",
       "   'classifier__max_features': 3,\n",
       "   'classifier__n_estimators': 50},\n",
       "  {'classifier': RandomForestClassifier(max_features=18, n_estimators=190),\n",
       "   'classifier__max_features': 3,\n",
       "   'classifier__n_estimators': 60},\n",
       "  {'classifier': RandomForestClassifier(max_features=18, n_estimators=190),\n",
       "   'classifier__max_features': 3,\n",
       "   'classifier__n_estimators': 70},\n",
       "  {'classifier': RandomForestClassifier(max_features=18, n_estimators=190),\n",
       "   'classifier__max_features': 3,\n",
       "   'classifier__n_estimators': 80},\n",
       "  {'classifier': RandomForestClassifier(max_features=18, n_estimators=190),\n",
       "   'classifier__max_features': 3,\n",
       "   'classifier__n_estimators': 90},\n",
       "  {'classifier': RandomForestClassifier(max_features=18, n_estimators=190),\n",
       "   'classifier__max_features': 3,\n",
       "   'classifier__n_estimators': 100},\n",
       "  {'classifier': RandomForestClassifier(max_features=18, n_estimators=190),\n",
       "   'classifier__max_features': 3,\n",
       "   'classifier__n_estimators': 110},\n",
       "  {'classifier': RandomForestClassifier(max_features=18, n_estimators=190),\n",
       "   'classifier__max_features': 3,\n",
       "   'classifier__n_estimators': 120},\n",
       "  {'classifier': RandomForestClassifier(max_features=18, n_estimators=190),\n",
       "   'classifier__max_features': 3,\n",
       "   'classifier__n_estimators': 130},\n",
       "  {'classifier': RandomForestClassifier(max_features=18, n_estimators=190),\n",
       "   'classifier__max_features': 3,\n",
       "   'classifier__n_estimators': 140},\n",
       "  {'classifier': RandomForestClassifier(max_features=18, n_estimators=190),\n",
       "   'classifier__max_features': 3,\n",
       "   'classifier__n_estimators': 150},\n",
       "  {'classifier': RandomForestClassifier(max_features=18, n_estimators=190),\n",
       "   'classifier__max_features': 3,\n",
       "   'classifier__n_estimators': 160},\n",
       "  {'classifier': RandomForestClassifier(max_features=18, n_estimators=190),\n",
       "   'classifier__max_features': 3,\n",
       "   'classifier__n_estimators': 170},\n",
       "  {'classifier': RandomForestClassifier(max_features=18, n_estimators=190),\n",
       "   'classifier__max_features': 3,\n",
       "   'classifier__n_estimators': 180},\n",
       "  {'classifier': RandomForestClassifier(max_features=18, n_estimators=190),\n",
       "   'classifier__max_features': 3,\n",
       "   'classifier__n_estimators': 190},\n",
       "  {'classifier': RandomForestClassifier(max_features=18, n_estimators=190),\n",
       "   'classifier__max_features': 3,\n",
       "   'classifier__n_estimators': 200},\n",
       "  {'classifier': RandomForestClassifier(max_features=18, n_estimators=190),\n",
       "   'classifier__max_features': 8,\n",
       "   'classifier__n_estimators': 50},\n",
       "  {'classifier': RandomForestClassifier(max_features=18, n_estimators=190),\n",
       "   'classifier__max_features': 8,\n",
       "   'classifier__n_estimators': 60},\n",
       "  {'classifier': RandomForestClassifier(max_features=18, n_estimators=190),\n",
       "   'classifier__max_features': 8,\n",
       "   'classifier__n_estimators': 70},\n",
       "  {'classifier': RandomForestClassifier(max_features=18, n_estimators=190),\n",
       "   'classifier__max_features': 8,\n",
       "   'classifier__n_estimators': 80},\n",
       "  {'classifier': RandomForestClassifier(max_features=18, n_estimators=190),\n",
       "   'classifier__max_features': 8,\n",
       "   'classifier__n_estimators': 90},\n",
       "  {'classifier': RandomForestClassifier(max_features=18, n_estimators=190),\n",
       "   'classifier__max_features': 8,\n",
       "   'classifier__n_estimators': 100},\n",
       "  {'classifier': RandomForestClassifier(max_features=18, n_estimators=190),\n",
       "   'classifier__max_features': 8,\n",
       "   'classifier__n_estimators': 110},\n",
       "  {'classifier': RandomForestClassifier(max_features=18, n_estimators=190),\n",
       "   'classifier__max_features': 8,\n",
       "   'classifier__n_estimators': 120},\n",
       "  {'classifier': RandomForestClassifier(max_features=18, n_estimators=190),\n",
       "   'classifier__max_features': 8,\n",
       "   'classifier__n_estimators': 130},\n",
       "  {'classifier': RandomForestClassifier(max_features=18, n_estimators=190),\n",
       "   'classifier__max_features': 8,\n",
       "   'classifier__n_estimators': 140},\n",
       "  {'classifier': RandomForestClassifier(max_features=18, n_estimators=190),\n",
       "   'classifier__max_features': 8,\n",
       "   'classifier__n_estimators': 150},\n",
       "  {'classifier': RandomForestClassifier(max_features=18, n_estimators=190),\n",
       "   'classifier__max_features': 8,\n",
       "   'classifier__n_estimators': 160},\n",
       "  {'classifier': RandomForestClassifier(max_features=18, n_estimators=190),\n",
       "   'classifier__max_features': 8,\n",
       "   'classifier__n_estimators': 170},\n",
       "  {'classifier': RandomForestClassifier(max_features=18, n_estimators=190),\n",
       "   'classifier__max_features': 8,\n",
       "   'classifier__n_estimators': 180},\n",
       "  {'classifier': RandomForestClassifier(max_features=18, n_estimators=190),\n",
       "   'classifier__max_features': 8,\n",
       "   'classifier__n_estimators': 190},\n",
       "  {'classifier': RandomForestClassifier(max_features=18, n_estimators=190),\n",
       "   'classifier__max_features': 8,\n",
       "   'classifier__n_estimators': 200},\n",
       "  {'classifier': RandomForestClassifier(max_features=18, n_estimators=190),\n",
       "   'classifier__max_features': 13,\n",
       "   'classifier__n_estimators': 50},\n",
       "  {'classifier': RandomForestClassifier(max_features=18, n_estimators=190),\n",
       "   'classifier__max_features': 13,\n",
       "   'classifier__n_estimators': 60},\n",
       "  {'classifier': RandomForestClassifier(max_features=18, n_estimators=190),\n",
       "   'classifier__max_features': 13,\n",
       "   'classifier__n_estimators': 70},\n",
       "  {'classifier': RandomForestClassifier(max_features=18, n_estimators=190),\n",
       "   'classifier__max_features': 13,\n",
       "   'classifier__n_estimators': 80},\n",
       "  {'classifier': RandomForestClassifier(max_features=18, n_estimators=190),\n",
       "   'classifier__max_features': 13,\n",
       "   'classifier__n_estimators': 90},\n",
       "  {'classifier': RandomForestClassifier(max_features=18, n_estimators=190),\n",
       "   'classifier__max_features': 13,\n",
       "   'classifier__n_estimators': 100},\n",
       "  {'classifier': RandomForestClassifier(max_features=18, n_estimators=190),\n",
       "   'classifier__max_features': 13,\n",
       "   'classifier__n_estimators': 110},\n",
       "  {'classifier': RandomForestClassifier(max_features=18, n_estimators=190),\n",
       "   'classifier__max_features': 13,\n",
       "   'classifier__n_estimators': 120},\n",
       "  {'classifier': RandomForestClassifier(max_features=18, n_estimators=190),\n",
       "   'classifier__max_features': 13,\n",
       "   'classifier__n_estimators': 130},\n",
       "  {'classifier': RandomForestClassifier(max_features=18, n_estimators=190),\n",
       "   'classifier__max_features': 13,\n",
       "   'classifier__n_estimators': 140},\n",
       "  {'classifier': RandomForestClassifier(max_features=18, n_estimators=190),\n",
       "   'classifier__max_features': 13,\n",
       "   'classifier__n_estimators': 150},\n",
       "  {'classifier': RandomForestClassifier(max_features=18, n_estimators=190),\n",
       "   'classifier__max_features': 13,\n",
       "   'classifier__n_estimators': 160},\n",
       "  {'classifier': RandomForestClassifier(max_features=18, n_estimators=190),\n",
       "   'classifier__max_features': 13,\n",
       "   'classifier__n_estimators': 170},\n",
       "  {'classifier': RandomForestClassifier(max_features=18, n_estimators=190),\n",
       "   'classifier__max_features': 13,\n",
       "   'classifier__n_estimators': 180},\n",
       "  {'classifier': RandomForestClassifier(max_features=18, n_estimators=190),\n",
       "   'classifier__max_features': 13,\n",
       "   'classifier__n_estimators': 190},\n",
       "  {'classifier': RandomForestClassifier(max_features=18, n_estimators=190),\n",
       "   'classifier__max_features': 13,\n",
       "   'classifier__n_estimators': 200},\n",
       "  {'classifier': RandomForestClassifier(max_features=18, n_estimators=190),\n",
       "   'classifier__max_features': 18,\n",
       "   'classifier__n_estimators': 50},\n",
       "  {'classifier': RandomForestClassifier(max_features=18, n_estimators=190),\n",
       "   'classifier__max_features': 18,\n",
       "   'classifier__n_estimators': 60},\n",
       "  {'classifier': RandomForestClassifier(max_features=18, n_estimators=190),\n",
       "   'classifier__max_features': 18,\n",
       "   'classifier__n_estimators': 70},\n",
       "  {'classifier': RandomForestClassifier(max_features=18, n_estimators=190),\n",
       "   'classifier__max_features': 18,\n",
       "   'classifier__n_estimators': 80},\n",
       "  {'classifier': RandomForestClassifier(max_features=18, n_estimators=190),\n",
       "   'classifier__max_features': 18,\n",
       "   'classifier__n_estimators': 90},\n",
       "  {'classifier': RandomForestClassifier(max_features=18, n_estimators=190),\n",
       "   'classifier__max_features': 18,\n",
       "   'classifier__n_estimators': 100},\n",
       "  {'classifier': RandomForestClassifier(max_features=18, n_estimators=190),\n",
       "   'classifier__max_features': 18,\n",
       "   'classifier__n_estimators': 110},\n",
       "  {'classifier': RandomForestClassifier(max_features=18, n_estimators=190),\n",
       "   'classifier__max_features': 18,\n",
       "   'classifier__n_estimators': 120},\n",
       "  {'classifier': RandomForestClassifier(max_features=18, n_estimators=190),\n",
       "   'classifier__max_features': 18,\n",
       "   'classifier__n_estimators': 130},\n",
       "  {'classifier': RandomForestClassifier(max_features=18, n_estimators=190),\n",
       "   'classifier__max_features': 18,\n",
       "   'classifier__n_estimators': 140},\n",
       "  {'classifier': RandomForestClassifier(max_features=18, n_estimators=190),\n",
       "   'classifier__max_features': 18,\n",
       "   'classifier__n_estimators': 150},\n",
       "  {'classifier': RandomForestClassifier(max_features=18, n_estimators=190),\n",
       "   'classifier__max_features': 18,\n",
       "   'classifier__n_estimators': 160},\n",
       "  {'classifier': RandomForestClassifier(max_features=18, n_estimators=190),\n",
       "   'classifier__max_features': 18,\n",
       "   'classifier__n_estimators': 170},\n",
       "  {'classifier': RandomForestClassifier(max_features=18, n_estimators=190),\n",
       "   'classifier__max_features': 18,\n",
       "   'classifier__n_estimators': 180},\n",
       "  {'classifier': RandomForestClassifier(max_features=18, n_estimators=190),\n",
       "   'classifier__max_features': 18,\n",
       "   'classifier__n_estimators': 190},\n",
       "  {'classifier': RandomForestClassifier(max_features=18, n_estimators=190),\n",
       "   'classifier__max_features': 18,\n",
       "   'classifier__n_estimators': 200}],\n",
       " 'split0_test_score': array([0.90980939, 0.90980939, 0.90980939, 0.90980939, 0.91771269,\n",
       "        0.93026499, 0.94095769, 0.94886099, 0.9604835 , 0.9590888 ,\n",
       "        0.9600186 , 0.9590888 , 0.9511855 , 0.9567643 , 0.94467689,\n",
       "        0.9511855 , 0.94142259, 0.94746629, 0.94188749, 0.94653649,\n",
       "        0.9665272 , 0.967457  , 0.9655974 , 0.9688517 , 0.9688517 ,\n",
       "        0.9693166 , 0.9693166 , 0.9702464 , 0.9679219 , 0.967457  ,\n",
       "        0.9697815 , 0.9693166 , 0.9679219 , 0.9697815 , 0.9665272 ,\n",
       "        0.9697815 , 0.9683868 , 0.9679219 , 0.9707113 , 0.9693166 ,\n",
       "        0.9697815 , 0.967457  , 0.9697815 , 0.9683868 , 0.9679219 ,\n",
       "        0.9697815 , 0.9693166 , 0.9669921 , 0.9669921 , 0.9679219 ,\n",
       "        0.9679219 , 0.9693166 , 0.9665272 , 0.9693166 , 0.9697815 ,\n",
       "        0.9688517 , 0.9702464 , 0.9683868 , 0.9693166 , 0.9679219 ,\n",
       "        0.9697815 , 0.9702464 , 0.9688517 , 0.967457  , 0.9702464 ,\n",
       "        0.9707113 , 0.9693166 , 0.9693166 , 0.9665272 , 0.9665272 ,\n",
       "        0.9688517 , 0.9693166 , 0.967457  , 0.9688517 , 0.9702464 ,\n",
       "        0.9683868 , 0.9679219 , 0.9688517 , 0.9693166 , 0.9688517 ,\n",
       "        0.9711762 , 0.9688517 , 0.9693166 , 0.9707113 ]),\n",
       " 'split1_test_score': array([0.90980939, 0.90980939, 0.90980939, 0.90980939, 0.91492329,\n",
       "        0.94374709, 0.9553696 , 0.9600186 , 0.9693166 , 0.9665272 ,\n",
       "        0.9683868 , 0.9683868 , 0.9642027 , 0.9669921 , 0.9567643 ,\n",
       "        0.9637378 , 0.9516504 , 0.9632729 , 0.9525802 , 0.962808  ,\n",
       "        0.9753603 , 0.9758252 , 0.976755  , 0.9762901 , 0.9762901 ,\n",
       "        0.9753603 , 0.9758252 , 0.9772199 , 0.9795444 , 0.976755  ,\n",
       "        0.9781497 , 0.9748954 , 0.9772199 , 0.976755  , 0.9772199 ,\n",
       "        0.9772199 , 0.9753603 , 0.976755  , 0.9772199 , 0.976755  ,\n",
       "        0.976755  , 0.9762901 , 0.9772199 , 0.9776848 , 0.9781497 ,\n",
       "        0.9748954 , 0.9762901 , 0.9781497 , 0.9776848 , 0.976755  ,\n",
       "        0.9776848 , 0.9776848 , 0.9776848 , 0.9730358 , 0.9753603 ,\n",
       "        0.9753603 , 0.9776848 , 0.9776848 , 0.9762901 , 0.9786146 ,\n",
       "        0.9790795 , 0.976755  , 0.9762901 , 0.9786146 , 0.9772199 ,\n",
       "        0.976755  , 0.9790795 , 0.9772199 , 0.9758252 , 0.976755  ,\n",
       "        0.9776848 , 0.9776848 , 0.976755  , 0.9776848 , 0.9776848 ,\n",
       "        0.976755  , 0.976755  , 0.9753603 , 0.9753603 , 0.9776848 ,\n",
       "        0.9772199 , 0.9781497 , 0.9776848 , 0.9758252 ]),\n",
       " 'split2_test_score': array([0.90976744, 0.90976744, 0.90976744, 0.90976744, 0.91906977,\n",
       "        0.93860465, 0.94930233, 0.95534884, 0.96186047, 0.96325581,\n",
       "        0.96511628, 0.9655814 , 0.95906977, 0.96418605, 0.95627907,\n",
       "        0.96      , 0.95302326, 0.9572093 , 0.95209302, 0.95302326,\n",
       "        0.97395349, 0.97162791, 0.97302326, 0.9744186 , 0.9744186 ,\n",
       "        0.97302326, 0.97348837, 0.97581395, 0.97302326, 0.97255814,\n",
       "        0.9744186 , 0.97395349, 0.97302326, 0.97348837, 0.97348837,\n",
       "        0.97348837, 0.97255814, 0.97488372, 0.97302326, 0.97255814,\n",
       "        0.97209302, 0.97302326, 0.97209302, 0.97255814, 0.97348837,\n",
       "        0.9744186 , 0.97488372, 0.97302326, 0.97255814, 0.97302326,\n",
       "        0.97348837, 0.97348837, 0.97162791, 0.97209302, 0.97395349,\n",
       "        0.97302326, 0.97209302, 0.97255814, 0.9744186 , 0.97302326,\n",
       "        0.97209302, 0.97302326, 0.97395349, 0.97395349, 0.97255814,\n",
       "        0.97348837, 0.97302326, 0.97255814, 0.97162791, 0.97209302,\n",
       "        0.97209302, 0.9744186 , 0.9744186 , 0.9744186 , 0.97162791,\n",
       "        0.97348837, 0.97209302, 0.97302326, 0.97255814, 0.97302326,\n",
       "        0.97348837, 0.97302326, 0.97395349, 0.97255814]),\n",
       " 'split3_test_score': array([0.90976744, 0.90976744, 0.90976744, 0.91023256, 0.91906977,\n",
       "        0.94      , 0.95162791, 0.9572093 , 0.95953488, 0.96186047,\n",
       "        0.9655814 , 0.96511628, 0.95860465, 0.96325581, 0.95488372,\n",
       "        0.96      , 0.94883721, 0.95767442, 0.9455814 , 0.95348837,\n",
       "        0.97674419, 0.97581395, 0.97488372, 0.9772093 , 0.97627907,\n",
       "        0.97534884, 0.97302326, 0.97488372, 0.97534884, 0.97488372,\n",
       "        0.97488372, 0.97674419, 0.97395349, 0.97488372, 0.97767442,\n",
       "        0.97674419, 0.97581395, 0.97534884, 0.97581395, 0.9744186 ,\n",
       "        0.97162791, 0.97534884, 0.97581395, 0.97534884, 0.97534884,\n",
       "        0.97534884, 0.97534884, 0.9744186 , 0.9744186 , 0.97395349,\n",
       "        0.97348837, 0.97488372, 0.97023256, 0.97488372, 0.97534884,\n",
       "        0.97627907, 0.97581395, 0.97348837, 0.97534884, 0.97488372,\n",
       "        0.97348837, 0.97581395, 0.97488372, 0.97488372, 0.97488372,\n",
       "        0.97395349, 0.97581395, 0.97534884, 0.97488372, 0.97302326,\n",
       "        0.97395349, 0.97488372, 0.9772093 , 0.97674419, 0.97581395,\n",
       "        0.9744186 , 0.97674419, 0.97488372, 0.97581395, 0.97627907,\n",
       "        0.97534884, 0.97627907, 0.9772093 , 0.97534884]),\n",
       " 'split4_test_score': array([0.90976744, 0.90976744, 0.90976744, 0.90976744, 0.91627907,\n",
       "        0.94232558, 0.9544186 , 0.96046512, 0.96511628, 0.96837209,\n",
       "        0.97116279, 0.97162791, 0.96325581, 0.96697674, 0.95674419,\n",
       "        0.96186047, 0.95767442, 0.95953488, 0.95581395, 0.95767442,\n",
       "        0.98      , 0.97767442, 0.97860465, 0.97906977, 0.97813953,\n",
       "        0.98139535, 0.98      , 0.97813953, 0.98046512, 0.97767442,\n",
       "        0.97860465, 0.97813953, 0.97906977, 0.97953488, 0.97860465,\n",
       "        0.97627907, 0.97767442, 0.97906977, 0.9772093 , 0.97906977,\n",
       "        0.9772093 , 0.98139535, 0.97627907, 0.97674419, 0.97953488,\n",
       "        0.97813953, 0.97953488, 0.97813953, 0.97953488, 0.98      ,\n",
       "        0.97860465, 0.97860465, 0.97674419, 0.97767442, 0.97906977,\n",
       "        0.98139535, 0.97906977, 0.97581395, 0.97860465, 0.97813953,\n",
       "        0.97627907, 0.97906977, 0.98      , 0.97767442, 0.97953488,\n",
       "        0.98      , 0.97953488, 0.97860465, 0.97813953, 0.97581395,\n",
       "        0.97860465, 0.9772093 , 0.97860465, 0.9772093 , 0.97953488,\n",
       "        0.97906977, 0.97813953, 0.97860465, 0.97906977, 0.97906977,\n",
       "        0.97906977, 0.97906977, 0.97953488, 0.97860465]),\n",
       " 'mean_test_score': array([0.90978422, 0.90978422, 0.90978422, 0.90987724, 0.91741092,\n",
       "        0.93898846, 0.95033523, 0.95638057, 0.96326234, 0.96382087,\n",
       "        0.96605317, 0.96596023, 0.95926368, 0.963635  , 0.95386963,\n",
       "        0.95935675, 0.95052157, 0.95703156, 0.94959121, 0.95470611,\n",
       "        0.97451703, 0.97367969, 0.9737728 , 0.97516789, 0.9747958 ,\n",
       "        0.97488887, 0.97433068, 0.9752607 , 0.9752607 , 0.97386565,\n",
       "        0.97516763, 0.97460984, 0.97423766, 0.97488869, 0.97470291,\n",
       "        0.9747026 , 0.97395872, 0.97479584, 0.97479554, 0.97442362,\n",
       "        0.97349335, 0.97470291, 0.97423749, 0.97414455, 0.97488874,\n",
       "        0.97451677, 0.97507483, 0.97414464, 0.9742377 , 0.97433073,\n",
       "        0.97423762, 0.97479563, 0.97256333, 0.97340071, 0.97470278,\n",
       "        0.97498193, 0.97498159, 0.97358641, 0.97479576, 0.9745166 ,\n",
       "        0.97414429, 0.97498167, 0.9747958 , 0.97451664, 0.97488861,\n",
       "        0.97498163, 0.97535364, 0.97460962, 0.97340071, 0.97284249,\n",
       "        0.97423753, 0.9747026 , 0.97488891, 0.97498172, 0.97498159,\n",
       "        0.97442371, 0.97433073, 0.97414472, 0.97442375, 0.97498172,\n",
       "        0.97526061, 0.9750747 , 0.97553981, 0.97460962]),\n",
       " 'std_test_score': array([2.05507881e-05, 2.05507881e-05, 2.05507881e-05, 1.78644464e-04,\n",
       "        1.61641557e-03, 4.71275670e-03, 5.15159917e-03, 4.20033406e-03,\n",
       "        3.56853679e-03, 3.30432552e-03, 3.71673128e-03, 4.14929305e-03,\n",
       "        4.60564890e-03, 3.74409841e-03, 4.64719978e-03, 4.31414196e-03,\n",
       "        5.37260373e-03, 5.23755797e-03, 5.08608867e-03, 5.39460686e-03,\n",
       "        4.46965995e-03, 3.68911548e-03, 4.49162491e-03, 3.49591435e-03,\n",
       "        3.19650483e-03, 3.93189074e-03, 3.51950683e-03, 2.74654630e-03,\n",
       "        4.56744949e-03, 3.65162804e-03, 3.17357575e-03, 3.01811006e-03,\n",
       "        3.83894257e-03, 3.25928078e-03, 4.44310850e-03, 2.78142851e-03,\n",
       "        3.23173886e-03, 3.73281070e-03, 2.55197792e-03, 3.36403731e-03,\n",
       "        2.95517488e-03, 4.53981544e-03, 2.82852090e-03, 3.35887449e-03,\n",
       "        4.07259429e-03, 2.69787201e-03, 3.30568617e-03, 4.11074465e-03,\n",
       "        4.36566273e-03, 4.02349697e-03, 3.79381339e-03, 3.30431292e-03,\n",
       "        4.15815846e-03, 2.79238579e-03, 2.99000880e-03, 4.10789088e-03,\n",
       "        3.33104267e-03, 3.15789996e-03, 3.07278588e-03, 3.89292200e-03,\n",
       "        3.24300627e-03, 3.05967723e-03, 3.61569368e-03, 3.92569167e-03,\n",
       "        3.28645766e-03, 3.15757844e-03, 3.83283927e-03, 3.33301459e-03,\n",
       "        4.02298245e-03, 3.59484682e-03, 3.59561370e-03, 2.97656000e-03,\n",
       "        3.95291684e-03, 3.26402577e-03, 3.53275777e-03, 3.58719823e-03,\n",
       "        3.80234962e-03, 3.19964100e-03, 3.28508082e-03, 3.66373152e-03,\n",
       "        2.76331426e-03, 3.73633170e-03, 3.59426177e-03, 2.73458731e-03]),\n",
       " 'rank_test_score': array([82, 82, 82, 81, 80, 79, 77, 73, 69, 67, 65, 66, 71, 68, 75, 70, 76,\n",
       "        72, 78, 74, 36, 58, 57,  6, 23, 18, 45,  3,  4, 56,  7, 33, 47, 20,\n",
       "        28, 31, 55, 22, 27, 42, 60, 28, 50, 53, 19, 37,  8, 52, 46, 43, 48,\n",
       "        26, 64, 61, 30, 10, 15, 59, 25, 39, 54, 13, 23, 38, 21, 14,  2, 34,\n",
       "        61, 63, 49, 31, 17, 11, 15, 41, 43, 51, 40, 11,  5,  9,  1, 34],\n",
       "       dtype=int32)}"
      ]
     },
     "execution_count": 53,
     "metadata": {},
     "output_type": "execute_result"
    }
   ],
   "source": [
    "rf_clf.cv_results_"
   ]
  },
  {
   "cell_type": "code",
   "execution_count": 55,
   "id": "outstanding-population",
   "metadata": {},
   "outputs": [
    {
     "data": {
      "text/plain": [
       "{'classifier': RandomForestClassifier(max_features=3, n_estimators=140),\n",
       " 'classifier__max_features': 3,\n",
       " 'classifier__n_estimators': 140}"
      ]
     },
     "execution_count": 55,
     "metadata": {},
     "output_type": "execute_result"
    }
   ],
   "source": [
    "rf_clf.best_params_"
   ]
  },
  {
   "cell_type": "code",
   "execution_count": 57,
   "id": "complex-belfast",
   "metadata": {},
   "outputs": [
    {
     "data": {
      "text/plain": [
       "Pipeline(steps=[('preprocessor',\n",
       "                 ColumnTransformer(transformers=[('num',\n",
       "                                                  Pipeline(steps=[('imputer',\n",
       "                                                                   KNNImputer()),\n",
       "                                                                  ('scaler',\n",
       "                                                                   StandardScaler())]),\n",
       "                                                  ['num_order', 'num_payouts',\n",
       "                                                   'sale_duration', 'user_age',\n",
       "                                                   'org_facebook',\n",
       "                                                   'org_twitter']),\n",
       "                                                 ('cat',\n",
       "                                                  Pipeline(steps=[('imputer',\n",
       "                                                                   SimpleImputer(strategy='most_frequent')),\n",
       "                                                                  ('encoder',\n",
       "                                                                   OneHotEncoder(handle_unknown='ignore'))]),\n",
       "                                                  ['channels', 'country',\n",
       "                                                   'delivery_method',\n",
       "                                                   'email_domain',\n",
       "                                                   'fb_published', 'gts',\n",
       "                                                   'has_analytics',\n",
       "                                                   'has_header', 'has_logo',\n",
       "                                                   'listed', 'payout_type',\n",
       "                                                   'show_map', 'user_type',\n",
       "                                                   'venue_country'])])),\n",
       "                ('rf',\n",
       "                 RandomForestClassifier(max_features=8, n_estimators=200))])"
      ]
     },
     "execution_count": 57,
     "metadata": {},
     "output_type": "execute_result"
    }
   ],
   "source": [
    "rf_best_pipe = Pipeline([\n",
    "    ('preprocessor', preprocessor),\n",
    "    ('rf', RandomForestClassifier(n_estimators=200, max_features=8))\n",
    "])\n",
    "\n",
    "rf_best_pipe.fit(X_train, y_train)"
   ]
  },
  {
   "cell_type": "code",
   "execution_count": 59,
   "id": "anticipated-europe",
   "metadata": {},
   "outputs": [
    {
     "name": "stdout",
     "output_type": "stream",
     "text": [
      "              precision    recall  f1-score   support\n",
      "\n",
      "   Not Fraud       0.98      1.00      0.99      3262\n",
      "       Fraud       0.97      0.77      0.86       323\n",
      "\n",
      "    accuracy                           0.98      3585\n",
      "   macro avg       0.97      0.89      0.92      3585\n",
      "weighted avg       0.98      0.98      0.98      3585\n",
      "\n"
     ]
    },
    {
     "data": {
      "image/png": "[encoded data removed]",
      "text/plain": [
       "<Figure size 432x864 with 4 Axes>"
      ]
     },
     "metadata": {
      "needs_background": "light"
     },
     "output_type": "display_data"
    }
   ],
   "source": [
    "evaluation_metrics(rf_best_pipe)"
   ]
  },
  {
   "cell_type": "markdown",
   "id": "former-treasury",
   "metadata": {},
   "source": [
    "# Gradient Boosting"
   ]
  },
  {
   "cell_type": "code",
   "execution_count": 61,
   "id": "informative-incident",
   "metadata": {},
   "outputs": [],
   "source": [
    "gb_pipe = Pipeline([\n",
    "    ('preprocessor', preprocessor),\n",
    "    ('classifier', GradientBoostingClassifier())\n",
    "])\n",
    "\n",
    "gb_param_grid = [\n",
    "    {'classifier__max_depth': [3,5,7],\n",
    "     'classifier__max_features': [None, 'sqrt'],\n",
    "     'classifier__min_samples_split': [2,6],\n",
    "     'classifier__loss': ['deviance', 'exponential'],\n",
    "     'classifier__learning_rate': [0.1],\n",
    "     'classifier__n_estimators': list(range(100,301,50)),\n",
    "     'classifier__subsample': [0.5, 1]\n",
    "    }] \n",
    "\n",
    "gb_clf = GridSearchCV(gb_pipe, gb_param_grid, cv=3, verbose=True, n_jobs=-1)\n"
   ]
  },
  {
   "cell_type": "code",
   "execution_count": 63,
   "id": "solar-surface",
   "metadata": {},
   "outputs": [
    {
     "name": "stdout",
     "output_type": "stream",
     "text": [
      "Fitting 3 folds for each of 240 candidates, totalling 720 fits\n"
     ]
    },
    {
     "data": {
      "text/plain": [
       "GridSearchCV(cv=3,\n",
       "             estimator=Pipeline(steps=[('preprocessor',\n",
       "                                        ColumnTransformer(transformers=[('num',\n",
       "                                                                         Pipeline(steps=[('imputer',\n",
       "                                                                                          KNNImputer()),\n",
       "                                                                                         ('scaler',\n",
       "                                                                                          StandardScaler())]),\n",
       "                                                                         ['num_order',\n",
       "                                                                          'num_payouts',\n",
       "                                                                          'sale_duration',\n",
       "                                                                          'user_age',\n",
       "                                                                          'org_facebook',\n",
       "                                                                          'org_twitter']),\n",
       "                                                                        ('cat',\n",
       "                                                                         Pipeline(steps=[('imputer',\n",
       "                                                                                          SimpleImputer(strategy='most_frequent')),\n",
       "                                                                                         ('encoder',\n",
       "                                                                                          OneHotEnc...\n",
       "                                       ('classifier',\n",
       "                                        GradientBoostingClassifier())]),\n",
       "             n_jobs=-1,\n",
       "             param_grid=[{'classifier__learning_rate': [0.1],\n",
       "                          'classifier__loss': ['deviance', 'exponential'],\n",
       "                          'classifier__max_depth': [3, 5, 7],\n",
       "                          'classifier__max_features': [None, 'sqrt'],\n",
       "                          'classifier__min_samples_split': [2, 6],\n",
       "                          'classifier__n_estimators': [100, 150, 200, 250, 300],\n",
       "                          'classifier__subsample': [0.5, 1]}],\n",
       "             verbose=True)"
      ]
     },
     "execution_count": 63,
     "metadata": {},
     "output_type": "execute_result"
    }
   ],
   "source": [
    "gb_clf.fit(X_train, y_train)"
   ]
  },
  {
   "cell_type": "code",
   "execution_count": 65,
   "id": "tropical-aging",
   "metadata": {},
   "outputs": [
    {
     "ename": "AttributeError",
     "evalue": "'GridSearchCV' object has no attribute 'best_params_'",
     "output_type": "error",
     "traceback": [
      "\u001b[0;31m---------------------------------------------------------------------------\u001b[0m",
      "\u001b[0;31mAttributeError\u001b[0m                            Traceback (most recent call last)",
      "\u001b[0;32m<ipython-input-65-22d3f7a20b88>\u001b[0m in \u001b[0;36m<module>\u001b[0;34m\u001b[0m\n\u001b[0;32m----> 1\u001b[0;31m \u001b[0mgb_clf\u001b[0m\u001b[0;34m.\u001b[0m\u001b[0mbest_params_\u001b[0m\u001b[0;34m\u001b[0m\u001b[0;34m\u001b[0m\u001b[0m\n\u001b[0m",
      "\u001b[0;31mAttributeError\u001b[0m: 'GridSearchCV' object has no attribute 'best_params_'"
     ]
    }
   ],
   "source": [
    "gb_clf.best_params_"
   ]
  },
  {
   "cell_type": "code",
   "execution_count": 66,
   "id": "communist-attack",
   "metadata": {},
   "outputs": [
    {
     "data": {
      "text/plain": [
       "Pipeline(steps=[('preprocessor',\n",
       "                 ColumnTransformer(transformers=[('num',\n",
       "                                                  Pipeline(steps=[('imputer',\n",
       "                                                                   KNNImputer()),\n",
       "                                                                  ('scaler',\n",
       "                                                                   StandardScaler())]),\n",
       "                                                  ['num_order', 'num_payouts',\n",
       "                                                   'sale_duration', 'user_age',\n",
       "                                                   'org_facebook',\n",
       "                                                   'org_twitter']),\n",
       "                                                 ('cat',\n",
       "                                                  Pipeline(steps=[('imputer',\n",
       "                                                                   SimpleImputer(strategy='most_frequent')),\n",
       "                                                                  ('encoder',\n",
       "                                                                   OneHotEncoder(handle_unknown='ignore'))]),\n",
       "                                                  ['channels', 'country',\n",
       "                                                   'delivery_method',\n",
       "                                                   'email_domain',\n",
       "                                                   'fb_published', 'gts',\n",
       "                                                   'has_analytics',\n",
       "                                                   'has_header', 'has_logo',\n",
       "                                                   'listed', 'payout_type',\n",
       "                                                   'show_map', 'user_type',\n",
       "                                                   'venue_country'])])),\n",
       "                ('gb',\n",
       "                 GradientBoostingClassifier(learning_rate=0.01, max_depth=7,\n",
       "                                            n_estimators=250, subsample=1))])"
      ]
     },
     "execution_count": 66,
     "metadata": {},
     "output_type": "execute_result"
    }
   ],
   "source": [
    "gb_best_pipe = Pipeline([\n",
    "    ('preprocessor', preprocessor),\n",
    "    ('gb', GradientBoostingClassifier(\n",
    "                       learning_rate = 0.01,\n",
    "                       loss = 'deviance',\n",
    "                       max_depth =  7,\n",
    "                       max_features = None,\n",
    "                        min_samples_split = 2,\n",
    "                        n_estimators = 250,\n",
    "                        subsample = 1))\n",
    "])\n",
    "\n",
    "gb_best_pipe.fit(X_train, y_train)"
   ]
  },
  {
   "cell_type": "code",
   "execution_count": 67,
   "id": "married-annual",
   "metadata": {},
   "outputs": [
    {
     "name": "stdout",
     "output_type": "stream",
     "text": [
      "              precision    recall  f1-score   support\n",
      "\n",
      "   Not Fraud       0.98      0.99      0.99      3262\n",
      "       Fraud       0.91      0.81      0.86       323\n",
      "\n",
      "    accuracy                           0.98      3585\n",
      "   macro avg       0.95      0.90      0.92      3585\n",
      "weighted avg       0.98      0.98      0.98      3585\n",
      "\n"
     ]
    },
    {
     "data": {
      "image/png": "[encoded data removed]",
      "text/plain": [
       "<Figure size 432x864 with 4 Axes>"
      ]
     },
     "metadata": {
      "needs_background": "light"
     },
     "output_type": "display_data"
    }
   ],
   "source": [
    "evaluation_metrics(gb_best_pipe)"
   ]
  },
  {
   "cell_type": "code",
   "execution_count": 68,
   "id": "private-sapphire",
   "metadata": {},
   "outputs": [
    {
     "data": {
      "text/plain": [
       "GridSearchCV(cv=5,\n",
       "             estimator=Pipeline(steps=[('preprocessor',\n",
       "                                        ColumnTransformer(transformers=[('num',\n",
       "                                                                         Pipeline(steps=[('imputer',\n",
       "                                                                                          KNNImputer()),\n",
       "                                                                                         ('scaler',\n",
       "                                                                                          StandardScaler())]),\n",
       "                                                                         ['num_order',\n",
       "                                                                          'num_payouts',\n",
       "                                                                          'sale_duration',\n",
       "                                                                          'user_age',\n",
       "                                                                          'org_facebook',\n",
       "                                                                          'org_twitter']),\n",
       "                                                                        ('cat',\n",
       "                                                                         Pipeline(steps=[('imputer',\n",
       "                                                                                          SimpleImputer(strategy='most_frequent')),\n",
       "                                                                                         ('encoder',\n",
       "                                                                                          OneHotEnc...\n",
       "       3.59381366e-01, 2.78255940e+00, 2.15443469e+01, 1.66810054e+02,\n",
       "       1.29154967e+03, 1.00000000e+04]),\n",
       "                          'classifier__penalty': ['l1', 'l2'],\n",
       "                          'classifier__solver': ['liblinear']},\n",
       "                         {'classifier': [RandomForestClassifier(max_features=3,\n",
       "                                                                n_estimators=140)],\n",
       "                          'classifier__max_features': [3, 8, 13, 18],\n",
       "                          'classifier__n_estimators': [50, 60, 70, 80, 90, 100,\n",
       "                                                       110, 120, 130, 140, 150,\n",
       "                                                       160, 170, 180, 190,\n",
       "                                                       200]}],\n",
       "             verbose=True)"
      ]
     },
     "execution_count": 68,
     "metadata": {},
     "output_type": "execute_result"
    }
   ],
   "source": [
    "rf_clf"
   ]
  },
  {
   "cell_type": "markdown",
   "id": "checked-reservoir",
   "metadata": {},
   "source": [
    "### Mandy"
   ]
  },
  {
   "cell_type": "code",
   "execution_count": 72,
   "id": "single-genetics",
   "metadata": {},
   "outputs": [
    {
     "data": {
      "text/plain": [
       "array([10, 5, 127.0, 4, 0.0, 0.0, 8, 'US', 1.0, 'gmail.com', 0, 1486.9, 0,\n",
       "       0.0, 1, 'y', 'CHECK', 1, 3, 'US'], dtype=object)"
      ]
     },
     "execution_count": 72,
     "metadata": {},
     "output_type": "execute_result"
    }
   ],
   "source": [
    "X_train.iloc[1].values"
   ]
  },
  {
   "cell_type": "code",
   "execution_count": null,
   "id": "needed-wells",
   "metadata": {},
   "outputs": [],
   "source": []
  },
  {
   "cell_type": "code",
   "execution_count": 74,
   "id": "southwest-hearts",
   "metadata": {},
   "outputs": [
    {
     "data": {
      "text/plain": [
       "num_order                 10\n",
       "num_payouts                5\n",
       "sale_duration          127.0\n",
       "user_age                   4\n",
       "org_facebook             0.0\n",
       "org_twitter              0.0\n",
       "channels                   8\n",
       "country                   US\n",
       "delivery_method          1.0\n",
       "email_domain       gmail.com\n",
       "fb_published               0\n",
       "gts                   1486.9\n",
       "has_analytics              0\n",
       "has_header               0.0\n",
       "has_logo                   1\n",
       "listed                     y\n",
       "payout_type            CHECK\n",
       "show_map                   1\n",
       "user_type                  3\n",
       "venue_country             US\n",
       "Name: 12035, dtype: object"
      ]
     },
     "execution_count": 74,
     "metadata": {},
     "output_type": "execute_result"
    }
   ],
   "source": [
    "X_train.iloc[1]"
   ]
  },
  {
   "cell_type": "code",
   "execution_count": 83,
   "id": "disturbed-omaha",
   "metadata": {},
   "outputs": [
    {
     "data": {
      "text/plain": [
       "array([False, False, False, ..., False, False, False])"
      ]
     },
     "execution_count": 83,
     "metadata": {},
     "output_type": "execute_result"
    }
   ],
   "source": [
    "rf_best_pipe.predict(X_train)"
   ]
  },
  {
   "cell_type": "code",
   "execution_count": 84,
   "id": "regulated-biology",
   "metadata": {},
   "outputs": [
    {
     "data": {
      "text/html": [
       "<div>\n",
       "<style scoped>\n",
       "    .dataframe tbody tr th:only-of-type {\n",
       "        vertical-align: middle;\n",
       "    }\n",
       "\n",
       "    .dataframe tbody tr th {\n",
       "        vertical-align: top;\n",
       "    }\n",
       "\n",
       "    .dataframe thead th {\n",
       "        text-align: right;\n",
       "    }\n",
       "</style>\n",
       "<table border=\"1\" class=\"dataframe\">\n",
       "  <thead>\n",
       "    <tr style=\"text-align: right;\">\n",
       "      <th></th>\n",
       "      <th>num_order</th>\n",
       "      <th>num_payouts</th>\n",
       "      <th>sale_duration</th>\n",
       "      <th>user_age</th>\n",
       "      <th>org_facebook</th>\n",
       "      <th>org_twitter</th>\n",
       "      <th>channels</th>\n",
       "      <th>country</th>\n",
       "      <th>delivery_method</th>\n",
       "      <th>email_domain</th>\n",
       "      <th>fb_published</th>\n",
       "      <th>gts</th>\n",
       "      <th>has_analytics</th>\n",
       "      <th>has_header</th>\n",
       "      <th>has_logo</th>\n",
       "      <th>listed</th>\n",
       "      <th>payout_type</th>\n",
       "      <th>show_map</th>\n",
       "      <th>user_type</th>\n",
       "      <th>venue_country</th>\n",
       "    </tr>\n",
       "  </thead>\n",
       "  <tbody>\n",
       "    <tr>\n",
       "      <th>6377</th>\n",
       "      <td>9</td>\n",
       "      <td>5</td>\n",
       "      <td>22.0</td>\n",
       "      <td>558</td>\n",
       "      <td>18.0</td>\n",
       "      <td>14.0</td>\n",
       "      <td>11</td>\n",
       "      <td>GB</td>\n",
       "      <td>1.0</td>\n",
       "      <td>designerforum.org.uk</td>\n",
       "      <td>0</td>\n",
       "      <td>495.21</td>\n",
       "      <td>0</td>\n",
       "      <td>NaN</td>\n",
       "      <td>1</td>\n",
       "      <td>y</td>\n",
       "      <td>ACH</td>\n",
       "      <td>1</td>\n",
       "      <td>3</td>\n",
       "      <td>GB</td>\n",
       "    </tr>\n",
       "    <tr>\n",
       "      <th>4252</th>\n",
       "      <td>8</td>\n",
       "      <td>236</td>\n",
       "      <td>40.0</td>\n",
       "      <td>550</td>\n",
       "      <td>10.0</td>\n",
       "      <td>8.0</td>\n",
       "      <td>0</td>\n",
       "      <td>US</td>\n",
       "      <td>1.0</td>\n",
       "      <td>jhilburn.com</td>\n",
       "      <td>0</td>\n",
       "      <td>340.00</td>\n",
       "      <td>0</td>\n",
       "      <td>1.0</td>\n",
       "      <td>1</td>\n",
       "      <td>n</td>\n",
       "      <td>ACH</td>\n",
       "      <td>1</td>\n",
       "      <td>4</td>\n",
       "      <td>US</td>\n",
       "    </tr>\n",
       "    <tr>\n",
       "      <th>10693</th>\n",
       "      <td>19</td>\n",
       "      <td>5</td>\n",
       "      <td>51.0</td>\n",
       "      <td>337</td>\n",
       "      <td>14.0</td>\n",
       "      <td>12.0</td>\n",
       "      <td>8</td>\n",
       "      <td>GB</td>\n",
       "      <td>0.0</td>\n",
       "      <td>key-words.co.uk</td>\n",
       "      <td>0</td>\n",
       "      <td>184.73</td>\n",
       "      <td>0</td>\n",
       "      <td>NaN</td>\n",
       "      <td>1</td>\n",
       "      <td>y</td>\n",
       "      <td>ACH</td>\n",
       "      <td>1</td>\n",
       "      <td>4</td>\n",
       "      <td>GB</td>\n",
       "    </tr>\n",
       "    <tr>\n",
       "      <th>7126</th>\n",
       "      <td>78</td>\n",
       "      <td>10</td>\n",
       "      <td>225.0</td>\n",
       "      <td>0</td>\n",
       "      <td>0.0</td>\n",
       "      <td>0.0</td>\n",
       "      <td>11</td>\n",
       "      <td>GB</td>\n",
       "      <td>1.0</td>\n",
       "      <td>urban-change-in-iran.org</td>\n",
       "      <td>0</td>\n",
       "      <td>11701.41</td>\n",
       "      <td>0</td>\n",
       "      <td>0.0</td>\n",
       "      <td>1</td>\n",
       "      <td>y</td>\n",
       "      <td>ACH</td>\n",
       "      <td>1</td>\n",
       "      <td>1</td>\n",
       "      <td>GB</td>\n",
       "    </tr>\n",
       "    <tr>\n",
       "      <th>7565</th>\n",
       "      <td>248</td>\n",
       "      <td>0</td>\n",
       "      <td>126.0</td>\n",
       "      <td>0</td>\n",
       "      <td>0.0</td>\n",
       "      <td>0.0</td>\n",
       "      <td>0</td>\n",
       "      <td>US</td>\n",
       "      <td>1.0</td>\n",
       "      <td>gmail.com</td>\n",
       "      <td>0</td>\n",
       "      <td>5635.35</td>\n",
       "      <td>0</td>\n",
       "      <td>0.0</td>\n",
       "      <td>1</td>\n",
       "      <td>n</td>\n",
       "      <td>ACH</td>\n",
       "      <td>0</td>\n",
       "      <td>1</td>\n",
       "      <td>US</td>\n",
       "    </tr>\n",
       "  </tbody>\n",
       "</table>\n",
       "</div>"
      ],
      "text/plain": [
       "       num_order  num_payouts  sale_duration  user_age  org_facebook  \\\n",
       "6377           9            5           22.0       558          18.0   \n",
       "4252           8          236           40.0       550          10.0   \n",
       "10693         19            5           51.0       337          14.0   \n",
       "7126          78           10          225.0         0           0.0   \n",
       "7565         248            0          126.0         0           0.0   \n",
       "\n",
       "       org_twitter  channels country  delivery_method  \\\n",
       "6377          14.0        11      GB              1.0   \n",
       "4252           8.0         0      US              1.0   \n",
       "10693         12.0         8      GB              0.0   \n",
       "7126           0.0        11      GB              1.0   \n",
       "7565           0.0         0      US              1.0   \n",
       "\n",
       "                   email_domain  fb_published       gts  has_analytics  \\\n",
       "6377       designerforum.org.uk             0    495.21              0   \n",
       "4252               jhilburn.com             0    340.00              0   \n",
       "10693           key-words.co.uk             0    184.73              0   \n",
       "7126   urban-change-in-iran.org             0  11701.41              0   \n",
       "7565                  gmail.com             0   5635.35              0   \n",
       "\n",
       "       has_header  has_logo listed payout_type  show_map  user_type  \\\n",
       "6377          NaN         1      y         ACH         1          3   \n",
       "4252          1.0         1      n         ACH         1          4   \n",
       "10693         NaN         1      y         ACH         1          4   \n",
       "7126          0.0         1      y         ACH         1          1   \n",
       "7565          0.0         1      n         ACH         0          1   \n",
       "\n",
       "      venue_country  \n",
       "6377             GB  \n",
       "4252             US  \n",
       "10693            GB  \n",
       "7126             GB  \n",
       "7565             US  "
      ]
     },
     "execution_count": 84,
     "metadata": {},
     "output_type": "execute_result"
    }
   ],
   "source": [
    "X_test.head()"
   ]
  },
  {
   "cell_type": "code",
   "execution_count": 77,
   "id": "collect-issue",
   "metadata": {},
   "outputs": [
    {
     "data": {
      "text/plain": [
       "array([[10],\n",
       "       [5],\n",
       "       [127.0],\n",
       "       [4],\n",
       "       [0.0],\n",
       "       [0.0],\n",
       "       [8],\n",
       "       ['US'],\n",
       "       [1.0],\n",
       "       ['gmail.com'],\n",
       "       [0],\n",
       "       [1486.9],\n",
       "       [0],\n",
       "       [0.0],\n",
       "       [1],\n",
       "       ['y'],\n",
       "       ['CHECK'],\n",
       "       [1],\n",
       "       [3],\n",
       "       ['US']], dtype=object)"
      ]
     },
     "execution_count": 77,
     "metadata": {},
     "output_type": "execute_result"
    }
   ],
   "source": [
    "X_train.iloc[1].values.reshape(-1,1)"
   ]
  },
  {
   "cell_type": "code",
   "execution_count": null,
   "id": "dietary-conditioning",
   "metadata": {},
   "outputs": [],
   "source": []
  }
 ],
 "metadata": {
  "kernelspec": {
   "display_name": "Python 3",
   "language": "python",
   "name": "python3"
  },
  "language_info": {
   "codemirror_mode": {
    "name": "ipython",
    "version": 3
   },
   "file_extension": ".py",
   "mimetype": "text/x-python",
   "name": "python",
   "nbconvert_exporter": "python",
   "pygments_lexer": "ipython3",
   "version": "3.7.10"
  }
 },
 "nbformat": 4,
 "nbformat_minor": 5
}
